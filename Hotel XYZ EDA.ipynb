{
 "cells": [
  {
   "cell_type": "markdown",
   "id": "f3e65479-7bc4-47cb-9fc6-413313325e1c",
   "metadata": {},
   "source": [
    "Import packages"
   ]
  },
  {
   "cell_type": "code",
   "execution_count": 672,
   "id": "5d519db4-a743-4c92-9190-b1f0899dbf39",
   "metadata": {},
   "outputs": [],
   "source": [
    "import pandas as pd\n",
    "import seaborn as sbn\n",
    "import matplotlib.pyplot as plt\n",
    "from datetime import date, timedelta as td, datetime as dt\n",
    "pd.set_option('display.float_format', lambda x: '%.2f' % x)"
   ]
  },
  {
   "cell_type": "code",
   "execution_count": 673,
   "id": "cbfa33f5-eb3f-4a95-a066-48fe950f5bdf",
   "metadata": {},
   "outputs": [],
   "source": [
    "#read in the data\n",
    "df = pd.read_csv('C:/Users/kayode_kobo360/Desktop/Python Practice/hotel_bookings.csv')"
   ]
  },
  {
   "cell_type": "markdown",
   "id": "04c6d125-3b95-45d7-8ba0-e928a407235c",
   "metadata": {},
   "source": [
    "## Here's a dataset containg information of bookings from Hotel XYZ. Our challenge is to analyze the data and help them draw out meaningful insights from the data.\n",
    "\n",
    "Below is way to navigate the data.\n",
    "\n",
    "- hotel: Name of hotel ( City or Resort)\n",
    "- is_canceled: Whether the booking is canceled or not (0 for no canceled and 1 for canceled)\n",
    "- lead_time: time (in days) between booking transaction and actual arrival.\n",
    "- arrival_date_year: Year of arrival\n",
    "- arrival_date_month: month of arrival\n",
    "- arrival_date_week_number: week number of arrival date.\n",
    "- arrival_date_day_of_month: Day of month of arrival date\n",
    "- stays_in_weekend_nights: No. of weekend nights spent in a hotel\n",
    "- stays_in_week_nights: No. of weeknights spent in a hotel\n",
    "- adults: No. of adults in single booking record.\n",
    "- children: No. of children in single booking record.\n",
    "- babies: No. of babies in single booking record. \n",
    "- meal: Type of meal chosen \n",
    "- country: Country of origin of customers (as mentioned by them)\n",
    "- market_segment: What segment via booking was made and for what purpose.\n",
    "- distribution_channel: Via which medium booking was made.\n",
    "- is_repeated_guest: Whether the customer has made any booking before(0 for No and 1 for \n",
    "                     Yes)\n",
    "- previous_cancellations: No. of previous canceled bookings.\n",
    "- previous_bookings_not_canceled: No. of previous non-canceled bookings.\n",
    "- reserved_room_type: Room type reserved by a customer.\n",
    "- assigned_room_type: Room type assigned to the customer.\n",
    "- booking_changes: No. of booking changes done by customers\n",
    "- deposit_type: Type of deposit at the time of making a booking (No deposit/ Refundable/ No refund)\n",
    "- agent: Id of agent for booking\n",
    "- company: Id of the company making a booking\n",
    "- days_in_waiting_list: No. of days on waiting list.\n",
    "- customer_type: Type of customer(Transient, Group, etc.)\n",
    "- adr: Average Daily rate.\n",
    "- required_car_parking_spaces: No. of car parking asked in booking\n",
    "- total_of_special_requests: total no. of special request.\n",
    "- reservation_status: Whether a customer has checked out or canceled,or not showed \n",
    "- reservation_status_date: Date of making reservation status."
   ]
  },
  {
   "cell_type": "markdown",
   "id": "42d9bf12-fbfc-45f3-bc4f-59fbb1a46fa3",
   "metadata": {
    "tags": []
   },
   "source": [
    "## Exploration"
   ]
  },
  {
   "cell_type": "code",
   "execution_count": 674,
   "id": "5fc3522c-e40d-407e-bb9f-1504e8cd7d30",
   "metadata": {},
   "outputs": [
    {
     "data": {
      "text/plain": [
       "(119390, 32)"
      ]
     },
     "execution_count": 674,
     "metadata": {},
     "output_type": "execute_result"
    }
   ],
   "source": [
    "#count of he data set\n",
    "df.shape"
   ]
  },
  {
   "cell_type": "code",
   "execution_count": 675,
   "id": "47a1b6b2-bc8e-4285-99d9-e71485a9282a",
   "metadata": {},
   "outputs": [
    {
     "data": {
      "text/html": [
       "<div>\n",
       "<style scoped>\n",
       "    .dataframe tbody tr th:only-of-type {\n",
       "        vertical-align: middle;\n",
       "    }\n",
       "\n",
       "    .dataframe tbody tr th {\n",
       "        vertical-align: top;\n",
       "    }\n",
       "\n",
       "    .dataframe thead th {\n",
       "        text-align: right;\n",
       "    }\n",
       "</style>\n",
       "<table border=\"1\" class=\"dataframe\">\n",
       "  <thead>\n",
       "    <tr style=\"text-align: right;\">\n",
       "      <th></th>\n",
       "      <th>hotel</th>\n",
       "      <th>is_canceled</th>\n",
       "      <th>lead_time</th>\n",
       "      <th>arrival_date_year</th>\n",
       "      <th>arrival_date_month</th>\n",
       "      <th>arrival_date_week_number</th>\n",
       "      <th>arrival_date_day_of_month</th>\n",
       "      <th>stays_in_weekend_nights</th>\n",
       "      <th>stays_in_week_nights</th>\n",
       "      <th>adults</th>\n",
       "      <th>...</th>\n",
       "      <th>deposit_type</th>\n",
       "      <th>agent</th>\n",
       "      <th>company</th>\n",
       "      <th>days_in_waiting_list</th>\n",
       "      <th>customer_type</th>\n",
       "      <th>adr</th>\n",
       "      <th>required_car_parking_spaces</th>\n",
       "      <th>total_of_special_requests</th>\n",
       "      <th>reservation_status</th>\n",
       "      <th>reservation_status_date</th>\n",
       "    </tr>\n",
       "  </thead>\n",
       "  <tbody>\n",
       "    <tr>\n",
       "      <th>0</th>\n",
       "      <td>Resort Hotel</td>\n",
       "      <td>0</td>\n",
       "      <td>342</td>\n",
       "      <td>2015</td>\n",
       "      <td>July</td>\n",
       "      <td>27</td>\n",
       "      <td>1</td>\n",
       "      <td>0</td>\n",
       "      <td>0</td>\n",
       "      <td>2</td>\n",
       "      <td>...</td>\n",
       "      <td>No Deposit</td>\n",
       "      <td>NaN</td>\n",
       "      <td>NaN</td>\n",
       "      <td>0</td>\n",
       "      <td>Transient</td>\n",
       "      <td>0.00</td>\n",
       "      <td>0</td>\n",
       "      <td>0</td>\n",
       "      <td>Check-Out</td>\n",
       "      <td>2015-07-01</td>\n",
       "    </tr>\n",
       "    <tr>\n",
       "      <th>1</th>\n",
       "      <td>Resort Hotel</td>\n",
       "      <td>0</td>\n",
       "      <td>737</td>\n",
       "      <td>2015</td>\n",
       "      <td>July</td>\n",
       "      <td>27</td>\n",
       "      <td>1</td>\n",
       "      <td>0</td>\n",
       "      <td>0</td>\n",
       "      <td>2</td>\n",
       "      <td>...</td>\n",
       "      <td>No Deposit</td>\n",
       "      <td>NaN</td>\n",
       "      <td>NaN</td>\n",
       "      <td>0</td>\n",
       "      <td>Transient</td>\n",
       "      <td>0.00</td>\n",
       "      <td>0</td>\n",
       "      <td>0</td>\n",
       "      <td>Check-Out</td>\n",
       "      <td>2015-07-01</td>\n",
       "    </tr>\n",
       "    <tr>\n",
       "      <th>2</th>\n",
       "      <td>Resort Hotel</td>\n",
       "      <td>0</td>\n",
       "      <td>7</td>\n",
       "      <td>2015</td>\n",
       "      <td>July</td>\n",
       "      <td>27</td>\n",
       "      <td>1</td>\n",
       "      <td>0</td>\n",
       "      <td>1</td>\n",
       "      <td>1</td>\n",
       "      <td>...</td>\n",
       "      <td>No Deposit</td>\n",
       "      <td>NaN</td>\n",
       "      <td>NaN</td>\n",
       "      <td>0</td>\n",
       "      <td>Transient</td>\n",
       "      <td>75.00</td>\n",
       "      <td>0</td>\n",
       "      <td>0</td>\n",
       "      <td>Check-Out</td>\n",
       "      <td>2015-07-02</td>\n",
       "    </tr>\n",
       "    <tr>\n",
       "      <th>3</th>\n",
       "      <td>Resort Hotel</td>\n",
       "      <td>0</td>\n",
       "      <td>13</td>\n",
       "      <td>2015</td>\n",
       "      <td>July</td>\n",
       "      <td>27</td>\n",
       "      <td>1</td>\n",
       "      <td>0</td>\n",
       "      <td>1</td>\n",
       "      <td>1</td>\n",
       "      <td>...</td>\n",
       "      <td>No Deposit</td>\n",
       "      <td>304.00</td>\n",
       "      <td>NaN</td>\n",
       "      <td>0</td>\n",
       "      <td>Transient</td>\n",
       "      <td>75.00</td>\n",
       "      <td>0</td>\n",
       "      <td>0</td>\n",
       "      <td>Check-Out</td>\n",
       "      <td>2015-07-02</td>\n",
       "    </tr>\n",
       "    <tr>\n",
       "      <th>4</th>\n",
       "      <td>Resort Hotel</td>\n",
       "      <td>0</td>\n",
       "      <td>14</td>\n",
       "      <td>2015</td>\n",
       "      <td>July</td>\n",
       "      <td>27</td>\n",
       "      <td>1</td>\n",
       "      <td>0</td>\n",
       "      <td>2</td>\n",
       "      <td>2</td>\n",
       "      <td>...</td>\n",
       "      <td>No Deposit</td>\n",
       "      <td>240.00</td>\n",
       "      <td>NaN</td>\n",
       "      <td>0</td>\n",
       "      <td>Transient</td>\n",
       "      <td>98.00</td>\n",
       "      <td>0</td>\n",
       "      <td>1</td>\n",
       "      <td>Check-Out</td>\n",
       "      <td>2015-07-03</td>\n",
       "    </tr>\n",
       "  </tbody>\n",
       "</table>\n",
       "<p>5 rows × 32 columns</p>\n",
       "</div>"
      ],
      "text/plain": [
       "          hotel  is_canceled  lead_time  arrival_date_year arrival_date_month  \\\n",
       "0  Resort Hotel            0        342               2015               July   \n",
       "1  Resort Hotel            0        737               2015               July   \n",
       "2  Resort Hotel            0          7               2015               July   \n",
       "3  Resort Hotel            0         13               2015               July   \n",
       "4  Resort Hotel            0         14               2015               July   \n",
       "\n",
       "   arrival_date_week_number  arrival_date_day_of_month  \\\n",
       "0                        27                          1   \n",
       "1                        27                          1   \n",
       "2                        27                          1   \n",
       "3                        27                          1   \n",
       "4                        27                          1   \n",
       "\n",
       "   stays_in_weekend_nights  stays_in_week_nights  adults  ...  deposit_type  \\\n",
       "0                        0                     0       2  ...    No Deposit   \n",
       "1                        0                     0       2  ...    No Deposit   \n",
       "2                        0                     1       1  ...    No Deposit   \n",
       "3                        0                     1       1  ...    No Deposit   \n",
       "4                        0                     2       2  ...    No Deposit   \n",
       "\n",
       "   agent company days_in_waiting_list customer_type   adr  \\\n",
       "0    NaN     NaN                    0     Transient  0.00   \n",
       "1    NaN     NaN                    0     Transient  0.00   \n",
       "2    NaN     NaN                    0     Transient 75.00   \n",
       "3 304.00     NaN                    0     Transient 75.00   \n",
       "4 240.00     NaN                    0     Transient 98.00   \n",
       "\n",
       "   required_car_parking_spaces  total_of_special_requests  reservation_status  \\\n",
       "0                            0                          0           Check-Out   \n",
       "1                            0                          0           Check-Out   \n",
       "2                            0                          0           Check-Out   \n",
       "3                            0                          0           Check-Out   \n",
       "4                            0                          1           Check-Out   \n",
       "\n",
       "  reservation_status_date  \n",
       "0              2015-07-01  \n",
       "1              2015-07-01  \n",
       "2              2015-07-02  \n",
       "3              2015-07-02  \n",
       "4              2015-07-03  \n",
       "\n",
       "[5 rows x 32 columns]"
      ]
     },
     "execution_count": 675,
     "metadata": {},
     "output_type": "execute_result"
    }
   ],
   "source": [
    "#see the data set\n",
    "df.head(5)"
   ]
  },
  {
   "cell_type": "code",
   "execution_count": 676,
   "id": "b85fa7e4-dea7-40d7-9847-4d099656f7bf",
   "metadata": {},
   "outputs": [
    {
     "name": "stdout",
     "output_type": "stream",
     "text": [
      "<class 'pandas.core.frame.DataFrame'>\n",
      "RangeIndex: 119390 entries, 0 to 119389\n",
      "Data columns (total 32 columns):\n",
      " #   Column                          Non-Null Count   Dtype  \n",
      "---  ------                          --------------   -----  \n",
      " 0   hotel                           119390 non-null  object \n",
      " 1   is_canceled                     119390 non-null  int64  \n",
      " 2   lead_time                       119390 non-null  int64  \n",
      " 3   arrival_date_year               119390 non-null  int64  \n",
      " 4   arrival_date_month              119390 non-null  object \n",
      " 5   arrival_date_week_number        119390 non-null  int64  \n",
      " 6   arrival_date_day_of_month       119390 non-null  int64  \n",
      " 7   stays_in_weekend_nights         119390 non-null  int64  \n",
      " 8   stays_in_week_nights            119390 non-null  int64  \n",
      " 9   adults                          119390 non-null  int64  \n",
      " 10  children                        119386 non-null  float64\n",
      " 11  babies                          119390 non-null  int64  \n",
      " 12  meal                            119390 non-null  object \n",
      " 13  country                         118902 non-null  object \n",
      " 14  market_segment                  119390 non-null  object \n",
      " 15  distribution_channel            119390 non-null  object \n",
      " 16  is_repeated_guest               119390 non-null  int64  \n",
      " 17  previous_cancellations          119390 non-null  int64  \n",
      " 18  previous_bookings_not_canceled  119390 non-null  int64  \n",
      " 19  reserved_room_type              119390 non-null  object \n",
      " 20  assigned_room_type              119390 non-null  object \n",
      " 21  booking_changes                 119390 non-null  int64  \n",
      " 22  deposit_type                    119390 non-null  object \n",
      " 23  agent                           103050 non-null  float64\n",
      " 24  company                         6797 non-null    float64\n",
      " 25  days_in_waiting_list            119390 non-null  int64  \n",
      " 26  customer_type                   119390 non-null  object \n",
      " 27  adr                             119390 non-null  float64\n",
      " 28  required_car_parking_spaces     119390 non-null  int64  \n",
      " 29  total_of_special_requests       119390 non-null  int64  \n",
      " 30  reservation_status              119390 non-null  object \n",
      " 31  reservation_status_date         119390 non-null  object \n",
      "dtypes: float64(4), int64(16), object(12)\n",
      "memory usage: 29.1+ MB\n"
     ]
    }
   ],
   "source": [
    "#understand the data types\n",
    "df.info()"
   ]
  },
  {
   "cell_type": "code",
   "execution_count": 677,
   "id": "a5719ef4-7a1a-46a5-9430-ba1fd9b60d63",
   "metadata": {},
   "outputs": [
    {
     "data": {
      "text/plain": [
       "hotel                                  0\n",
       "is_canceled                            0\n",
       "lead_time                              0\n",
       "arrival_date_year                      0\n",
       "arrival_date_month                     0\n",
       "arrival_date_week_number               0\n",
       "arrival_date_day_of_month              0\n",
       "stays_in_weekend_nights                0\n",
       "stays_in_week_nights                   0\n",
       "adults                                 0\n",
       "children                               4\n",
       "babies                                 0\n",
       "meal                                   0\n",
       "country                              488\n",
       "market_segment                         0\n",
       "distribution_channel                   0\n",
       "is_repeated_guest                      0\n",
       "previous_cancellations                 0\n",
       "previous_bookings_not_canceled         0\n",
       "reserved_room_type                     0\n",
       "assigned_room_type                     0\n",
       "booking_changes                        0\n",
       "deposit_type                           0\n",
       "agent                              16340\n",
       "company                           112593\n",
       "days_in_waiting_list                   0\n",
       "customer_type                          0\n",
       "adr                                    0\n",
       "required_car_parking_spaces            0\n",
       "total_of_special_requests              0\n",
       "reservation_status                     0\n",
       "reservation_status_date                0\n",
       "dtype: int64"
      ]
     },
     "execution_count": 677,
     "metadata": {},
     "output_type": "execute_result"
    }
   ],
   "source": [
    "#see empty fields\n",
    "df.isnull().sum()"
   ]
  },
  {
   "cell_type": "code",
   "execution_count": 678,
   "id": "5aba6cc7-400a-4fca-b46b-55646b0b9f19",
   "metadata": {},
   "outputs": [
    {
     "data": {
      "text/html": [
       "<div>\n",
       "<style scoped>\n",
       "    .dataframe tbody tr th:only-of-type {\n",
       "        vertical-align: middle;\n",
       "    }\n",
       "\n",
       "    .dataframe tbody tr th {\n",
       "        vertical-align: top;\n",
       "    }\n",
       "\n",
       "    .dataframe thead th {\n",
       "        text-align: right;\n",
       "    }\n",
       "</style>\n",
       "<table border=\"1\" class=\"dataframe\">\n",
       "  <thead>\n",
       "    <tr style=\"text-align: right;\">\n",
       "      <th></th>\n",
       "      <th>is_canceled</th>\n",
       "      <th>lead_time</th>\n",
       "      <th>arrival_date_year</th>\n",
       "      <th>arrival_date_week_number</th>\n",
       "      <th>arrival_date_day_of_month</th>\n",
       "      <th>stays_in_weekend_nights</th>\n",
       "      <th>stays_in_week_nights</th>\n",
       "      <th>adults</th>\n",
       "      <th>children</th>\n",
       "      <th>babies</th>\n",
       "      <th>is_repeated_guest</th>\n",
       "      <th>previous_cancellations</th>\n",
       "      <th>previous_bookings_not_canceled</th>\n",
       "      <th>booking_changes</th>\n",
       "      <th>agent</th>\n",
       "      <th>company</th>\n",
       "      <th>days_in_waiting_list</th>\n",
       "      <th>adr</th>\n",
       "      <th>required_car_parking_spaces</th>\n",
       "      <th>total_of_special_requests</th>\n",
       "    </tr>\n",
       "  </thead>\n",
       "  <tbody>\n",
       "    <tr>\n",
       "      <th>count</th>\n",
       "      <td>119390.00</td>\n",
       "      <td>119390.00</td>\n",
       "      <td>119390.00</td>\n",
       "      <td>119390.00</td>\n",
       "      <td>119390.00</td>\n",
       "      <td>119390.00</td>\n",
       "      <td>119390.00</td>\n",
       "      <td>119390.00</td>\n",
       "      <td>119386.00</td>\n",
       "      <td>119390.00</td>\n",
       "      <td>119390.00</td>\n",
       "      <td>119390.00</td>\n",
       "      <td>119390.00</td>\n",
       "      <td>119390.00</td>\n",
       "      <td>103050.00</td>\n",
       "      <td>6797.00</td>\n",
       "      <td>119390.00</td>\n",
       "      <td>119390.00</td>\n",
       "      <td>119390.00</td>\n",
       "      <td>119390.00</td>\n",
       "    </tr>\n",
       "    <tr>\n",
       "      <th>mean</th>\n",
       "      <td>0.37</td>\n",
       "      <td>104.01</td>\n",
       "      <td>2016.16</td>\n",
       "      <td>27.17</td>\n",
       "      <td>15.80</td>\n",
       "      <td>0.93</td>\n",
       "      <td>2.50</td>\n",
       "      <td>1.86</td>\n",
       "      <td>0.10</td>\n",
       "      <td>0.01</td>\n",
       "      <td>0.03</td>\n",
       "      <td>0.09</td>\n",
       "      <td>0.14</td>\n",
       "      <td>0.22</td>\n",
       "      <td>86.69</td>\n",
       "      <td>189.27</td>\n",
       "      <td>2.32</td>\n",
       "      <td>101.83</td>\n",
       "      <td>0.06</td>\n",
       "      <td>0.57</td>\n",
       "    </tr>\n",
       "    <tr>\n",
       "      <th>std</th>\n",
       "      <td>0.48</td>\n",
       "      <td>106.86</td>\n",
       "      <td>0.71</td>\n",
       "      <td>13.61</td>\n",
       "      <td>8.78</td>\n",
       "      <td>1.00</td>\n",
       "      <td>1.91</td>\n",
       "      <td>0.58</td>\n",
       "      <td>0.40</td>\n",
       "      <td>0.10</td>\n",
       "      <td>0.18</td>\n",
       "      <td>0.84</td>\n",
       "      <td>1.50</td>\n",
       "      <td>0.65</td>\n",
       "      <td>110.77</td>\n",
       "      <td>131.66</td>\n",
       "      <td>17.59</td>\n",
       "      <td>50.54</td>\n",
       "      <td>0.25</td>\n",
       "      <td>0.79</td>\n",
       "    </tr>\n",
       "    <tr>\n",
       "      <th>min</th>\n",
       "      <td>0.00</td>\n",
       "      <td>0.00</td>\n",
       "      <td>2015.00</td>\n",
       "      <td>1.00</td>\n",
       "      <td>1.00</td>\n",
       "      <td>0.00</td>\n",
       "      <td>0.00</td>\n",
       "      <td>0.00</td>\n",
       "      <td>0.00</td>\n",
       "      <td>0.00</td>\n",
       "      <td>0.00</td>\n",
       "      <td>0.00</td>\n",
       "      <td>0.00</td>\n",
       "      <td>0.00</td>\n",
       "      <td>1.00</td>\n",
       "      <td>6.00</td>\n",
       "      <td>0.00</td>\n",
       "      <td>-6.38</td>\n",
       "      <td>0.00</td>\n",
       "      <td>0.00</td>\n",
       "    </tr>\n",
       "    <tr>\n",
       "      <th>25%</th>\n",
       "      <td>0.00</td>\n",
       "      <td>18.00</td>\n",
       "      <td>2016.00</td>\n",
       "      <td>16.00</td>\n",
       "      <td>8.00</td>\n",
       "      <td>0.00</td>\n",
       "      <td>1.00</td>\n",
       "      <td>2.00</td>\n",
       "      <td>0.00</td>\n",
       "      <td>0.00</td>\n",
       "      <td>0.00</td>\n",
       "      <td>0.00</td>\n",
       "      <td>0.00</td>\n",
       "      <td>0.00</td>\n",
       "      <td>9.00</td>\n",
       "      <td>62.00</td>\n",
       "      <td>0.00</td>\n",
       "      <td>69.29</td>\n",
       "      <td>0.00</td>\n",
       "      <td>0.00</td>\n",
       "    </tr>\n",
       "    <tr>\n",
       "      <th>50%</th>\n",
       "      <td>0.00</td>\n",
       "      <td>69.00</td>\n",
       "      <td>2016.00</td>\n",
       "      <td>28.00</td>\n",
       "      <td>16.00</td>\n",
       "      <td>1.00</td>\n",
       "      <td>2.00</td>\n",
       "      <td>2.00</td>\n",
       "      <td>0.00</td>\n",
       "      <td>0.00</td>\n",
       "      <td>0.00</td>\n",
       "      <td>0.00</td>\n",
       "      <td>0.00</td>\n",
       "      <td>0.00</td>\n",
       "      <td>14.00</td>\n",
       "      <td>179.00</td>\n",
       "      <td>0.00</td>\n",
       "      <td>94.58</td>\n",
       "      <td>0.00</td>\n",
       "      <td>0.00</td>\n",
       "    </tr>\n",
       "    <tr>\n",
       "      <th>75%</th>\n",
       "      <td>1.00</td>\n",
       "      <td>160.00</td>\n",
       "      <td>2017.00</td>\n",
       "      <td>38.00</td>\n",
       "      <td>23.00</td>\n",
       "      <td>2.00</td>\n",
       "      <td>3.00</td>\n",
       "      <td>2.00</td>\n",
       "      <td>0.00</td>\n",
       "      <td>0.00</td>\n",
       "      <td>0.00</td>\n",
       "      <td>0.00</td>\n",
       "      <td>0.00</td>\n",
       "      <td>0.00</td>\n",
       "      <td>229.00</td>\n",
       "      <td>270.00</td>\n",
       "      <td>0.00</td>\n",
       "      <td>126.00</td>\n",
       "      <td>0.00</td>\n",
       "      <td>1.00</td>\n",
       "    </tr>\n",
       "    <tr>\n",
       "      <th>max</th>\n",
       "      <td>1.00</td>\n",
       "      <td>737.00</td>\n",
       "      <td>2017.00</td>\n",
       "      <td>53.00</td>\n",
       "      <td>31.00</td>\n",
       "      <td>19.00</td>\n",
       "      <td>50.00</td>\n",
       "      <td>55.00</td>\n",
       "      <td>10.00</td>\n",
       "      <td>10.00</td>\n",
       "      <td>1.00</td>\n",
       "      <td>26.00</td>\n",
       "      <td>72.00</td>\n",
       "      <td>21.00</td>\n",
       "      <td>535.00</td>\n",
       "      <td>543.00</td>\n",
       "      <td>391.00</td>\n",
       "      <td>5400.00</td>\n",
       "      <td>8.00</td>\n",
       "      <td>5.00</td>\n",
       "    </tr>\n",
       "  </tbody>\n",
       "</table>\n",
       "</div>"
      ],
      "text/plain": [
       "       is_canceled  lead_time  arrival_date_year  arrival_date_week_number  \\\n",
       "count    119390.00  119390.00          119390.00                 119390.00   \n",
       "mean          0.37     104.01            2016.16                     27.17   \n",
       "std           0.48     106.86               0.71                     13.61   \n",
       "min           0.00       0.00            2015.00                      1.00   \n",
       "25%           0.00      18.00            2016.00                     16.00   \n",
       "50%           0.00      69.00            2016.00                     28.00   \n",
       "75%           1.00     160.00            2017.00                     38.00   \n",
       "max           1.00     737.00            2017.00                     53.00   \n",
       "\n",
       "       arrival_date_day_of_month  stays_in_weekend_nights  \\\n",
       "count                  119390.00                119390.00   \n",
       "mean                       15.80                     0.93   \n",
       "std                         8.78                     1.00   \n",
       "min                         1.00                     0.00   \n",
       "25%                         8.00                     0.00   \n",
       "50%                        16.00                     1.00   \n",
       "75%                        23.00                     2.00   \n",
       "max                        31.00                    19.00   \n",
       "\n",
       "       stays_in_week_nights    adults  children    babies  is_repeated_guest  \\\n",
       "count             119390.00 119390.00 119386.00 119390.00          119390.00   \n",
       "mean                   2.50      1.86      0.10      0.01               0.03   \n",
       "std                    1.91      0.58      0.40      0.10               0.18   \n",
       "min                    0.00      0.00      0.00      0.00               0.00   \n",
       "25%                    1.00      2.00      0.00      0.00               0.00   \n",
       "50%                    2.00      2.00      0.00      0.00               0.00   \n",
       "75%                    3.00      2.00      0.00      0.00               0.00   \n",
       "max                   50.00     55.00     10.00     10.00               1.00   \n",
       "\n",
       "       previous_cancellations  previous_bookings_not_canceled  \\\n",
       "count               119390.00                       119390.00   \n",
       "mean                     0.09                            0.14   \n",
       "std                      0.84                            1.50   \n",
       "min                      0.00                            0.00   \n",
       "25%                      0.00                            0.00   \n",
       "50%                      0.00                            0.00   \n",
       "75%                      0.00                            0.00   \n",
       "max                     26.00                           72.00   \n",
       "\n",
       "       booking_changes     agent  company  days_in_waiting_list       adr  \\\n",
       "count        119390.00 103050.00  6797.00             119390.00 119390.00   \n",
       "mean              0.22     86.69   189.27                  2.32    101.83   \n",
       "std               0.65    110.77   131.66                 17.59     50.54   \n",
       "min               0.00      1.00     6.00                  0.00     -6.38   \n",
       "25%               0.00      9.00    62.00                  0.00     69.29   \n",
       "50%               0.00     14.00   179.00                  0.00     94.58   \n",
       "75%               0.00    229.00   270.00                  0.00    126.00   \n",
       "max              21.00    535.00   543.00                391.00   5400.00   \n",
       "\n",
       "       required_car_parking_spaces  total_of_special_requests  \n",
       "count                    119390.00                  119390.00  \n",
       "mean                          0.06                       0.57  \n",
       "std                           0.25                       0.79  \n",
       "min                           0.00                       0.00  \n",
       "25%                           0.00                       0.00  \n",
       "50%                           0.00                       0.00  \n",
       "75%                           0.00                       1.00  \n",
       "max                           8.00                       5.00  "
      ]
     },
     "execution_count": 678,
     "metadata": {},
     "output_type": "execute_result"
    }
   ],
   "source": [
    "df.describe()"
   ]
  },
  {
   "cell_type": "markdown",
   "id": "49e52c34-472c-4f40-a971-1b157e2933c3",
   "metadata": {},
   "source": [
    "Might be interesting to take a look at unique values in some fields."
   ]
  },
  {
   "cell_type": "code",
   "execution_count": 679,
   "id": "3303f879-d123-4f6a-8854-6ddd85ec99e5",
   "metadata": {},
   "outputs": [
    {
     "data": {
      "text/plain": [
       "Index(['hotel', 'is_canceled', 'lead_time', 'arrival_date_year',\n",
       "       'arrival_date_month', 'arrival_date_week_number',\n",
       "       'arrival_date_day_of_month', 'stays_in_weekend_nights',\n",
       "       'stays_in_week_nights', 'adults', 'children', 'babies', 'meal',\n",
       "       'country', 'market_segment', 'distribution_channel',\n",
       "       'is_repeated_guest', 'previous_cancellations',\n",
       "       'previous_bookings_not_canceled', 'reserved_room_type',\n",
       "       'assigned_room_type', 'booking_changes', 'deposit_type', 'agent',\n",
       "       'company', 'days_in_waiting_list', 'customer_type', 'adr',\n",
       "       'required_car_parking_spaces', 'total_of_special_requests',\n",
       "       'reservation_status', 'reservation_status_date'],\n",
       "      dtype='object')"
      ]
     },
     "execution_count": 679,
     "metadata": {},
     "output_type": "execute_result"
    }
   ],
   "source": [
    "#help quickly glance over the df\n",
    "df.columns"
   ]
  },
  {
   "cell_type": "code",
   "execution_count": 680,
   "id": "0e0d0c61-7e2a-438e-9886-7e7f7e8f4cae",
   "metadata": {},
   "outputs": [
    {
     "data": {
      "text/plain": [
       "array(['Resort Hotel', 'City Hotel'], dtype=object)"
      ]
     },
     "execution_count": 680,
     "metadata": {},
     "output_type": "execute_result"
    }
   ],
   "source": [
    "df.hotel.unique()\n",
    "# there are only two hotels in this set"
   ]
  },
  {
   "cell_type": "code",
   "execution_count": 681,
   "id": "b0d86970-292c-45cf-93ac-b223fa943d9e",
   "metadata": {},
   "outputs": [
    {
     "data": {
      "text/plain": [
       "array(['Direct', 'Corporate', 'Online TA', 'Offline TA/TO',\n",
       "       'Complementary', 'Groups', 'Undefined', 'Aviation'], dtype=object)"
      ]
     },
     "execution_count": 681,
     "metadata": {},
     "output_type": "execute_result"
    }
   ],
   "source": [
    "df.market_segment.unique()"
   ]
  },
  {
   "cell_type": "code",
   "execution_count": 682,
   "id": "d5188309-34f9-494d-bb97-16de215eb8d5",
   "metadata": {},
   "outputs": [
    {
     "data": {
      "text/plain": [
       "array(['Direct', 'Corporate', 'TA/TO', 'Undefined', 'GDS'], dtype=object)"
      ]
     },
     "execution_count": 682,
     "metadata": {},
     "output_type": "execute_result"
    }
   ],
   "source": [
    "df.distribution_channel.unique()"
   ]
  },
  {
   "cell_type": "code",
   "execution_count": 683,
   "id": "8ab1aaa9-91f8-4f89-9a31-407a0b6db2b7",
   "metadata": {},
   "outputs": [
    {
     "data": {
      "text/plain": [
       "array([0, 1], dtype=int64)"
      ]
     },
     "execution_count": 683,
     "metadata": {},
     "output_type": "execute_result"
    }
   ],
   "source": [
    "df.is_repeated_guest.unique()"
   ]
  },
  {
   "cell_type": "code",
   "execution_count": 684,
   "id": "f4152630-cbb0-49be-a30c-c734441e8a87",
   "metadata": {},
   "outputs": [
    {
     "data": {
      "text/plain": [
       "array(['Transient', 'Contract', 'Transient-Party', 'Group'], dtype=object)"
      ]
     },
     "execution_count": 684,
     "metadata": {},
     "output_type": "execute_result"
    }
   ],
   "source": [
    "df.customer_type.unique()"
   ]
  },
  {
   "cell_type": "code",
   "execution_count": 685,
   "id": "f72d152b-0292-462f-bbd1-2bdefa389587",
   "metadata": {},
   "outputs": [
    {
     "data": {
      "text/plain": [
       "array([ 0.,  1.,  2., 10.,  3., nan])"
      ]
     },
     "execution_count": 685,
     "metadata": {},
     "output_type": "execute_result"
    }
   ],
   "source": [
    "df.children.unique()"
   ]
  },
  {
   "cell_type": "code",
   "execution_count": 686,
   "id": "37f449f1-2dda-4005-a298-d56cf0b5bafa",
   "metadata": {},
   "outputs": [
    {
     "data": {
      "text/plain": [
       "array([ 0,  1,  2, 10,  9], dtype=int64)"
      ]
     },
     "execution_count": 686,
     "metadata": {},
     "output_type": "execute_result"
    }
   ],
   "source": [
    "df.babies.unique()\n",
    "#as much as 10 babies brought to the hotel by a couple.. interesting."
   ]
  },
  {
   "cell_type": "code",
   "execution_count": 687,
   "id": "035749d7-956d-47f6-8790-fd0a2efd36e9",
   "metadata": {},
   "outputs": [
    {
     "data": {
      "text/plain": [
       "array(['BB', 'FB', 'HB', 'SC', 'Undefined'], dtype=object)"
      ]
     },
     "execution_count": 687,
     "metadata": {},
     "output_type": "execute_result"
    }
   ],
   "source": [
    "df.meal.unique()"
   ]
  },
  {
   "cell_type": "markdown",
   "id": "1ccd8a4c-99b3-45aa-9078-dbcd007e10f4",
   "metadata": {},
   "source": [
    "## Data Cleaning"
   ]
  },
  {
   "cell_type": "markdown",
   "id": "dfb8c46f-b092-424b-8306-0314eb53c748",
   "metadata": {},
   "source": [
    "Let's start by taking out duplicate rows"
   ]
  },
  {
   "cell_type": "code",
   "execution_count": 688,
   "id": "e41e0c12-e20d-4b5f-9639-efddcc105b21",
   "metadata": {},
   "outputs": [
    {
     "data": {
      "text/html": [
       "<div>\n",
       "<style scoped>\n",
       "    .dataframe tbody tr th:only-of-type {\n",
       "        vertical-align: middle;\n",
       "    }\n",
       "\n",
       "    .dataframe tbody tr th {\n",
       "        vertical-align: top;\n",
       "    }\n",
       "\n",
       "    .dataframe thead th {\n",
       "        text-align: right;\n",
       "    }\n",
       "</style>\n",
       "<table border=\"1\" class=\"dataframe\">\n",
       "  <thead>\n",
       "    <tr style=\"text-align: right;\">\n",
       "      <th></th>\n",
       "      <th>hotel</th>\n",
       "      <th>is_canceled</th>\n",
       "      <th>lead_time</th>\n",
       "      <th>arrival_date_year</th>\n",
       "      <th>arrival_date_month</th>\n",
       "      <th>arrival_date_week_number</th>\n",
       "      <th>arrival_date_day_of_month</th>\n",
       "      <th>stays_in_weekend_nights</th>\n",
       "      <th>stays_in_week_nights</th>\n",
       "      <th>adults</th>\n",
       "      <th>...</th>\n",
       "      <th>deposit_type</th>\n",
       "      <th>agent</th>\n",
       "      <th>company</th>\n",
       "      <th>days_in_waiting_list</th>\n",
       "      <th>customer_type</th>\n",
       "      <th>adr</th>\n",
       "      <th>required_car_parking_spaces</th>\n",
       "      <th>total_of_special_requests</th>\n",
       "      <th>reservation_status</th>\n",
       "      <th>reservation_status_date</th>\n",
       "    </tr>\n",
       "  </thead>\n",
       "  <tbody>\n",
       "    <tr>\n",
       "      <th>5</th>\n",
       "      <td>Resort Hotel</td>\n",
       "      <td>0</td>\n",
       "      <td>14</td>\n",
       "      <td>2015</td>\n",
       "      <td>July</td>\n",
       "      <td>27</td>\n",
       "      <td>1</td>\n",
       "      <td>0</td>\n",
       "      <td>2</td>\n",
       "      <td>2</td>\n",
       "      <td>...</td>\n",
       "      <td>No Deposit</td>\n",
       "      <td>240.00</td>\n",
       "      <td>NaN</td>\n",
       "      <td>0</td>\n",
       "      <td>Transient</td>\n",
       "      <td>98.00</td>\n",
       "      <td>0</td>\n",
       "      <td>1</td>\n",
       "      <td>Check-Out</td>\n",
       "      <td>2015-07-03</td>\n",
       "    </tr>\n",
       "    <tr>\n",
       "      <th>22</th>\n",
       "      <td>Resort Hotel</td>\n",
       "      <td>0</td>\n",
       "      <td>72</td>\n",
       "      <td>2015</td>\n",
       "      <td>July</td>\n",
       "      <td>27</td>\n",
       "      <td>1</td>\n",
       "      <td>2</td>\n",
       "      <td>4</td>\n",
       "      <td>2</td>\n",
       "      <td>...</td>\n",
       "      <td>No Deposit</td>\n",
       "      <td>250.00</td>\n",
       "      <td>NaN</td>\n",
       "      <td>0</td>\n",
       "      <td>Transient</td>\n",
       "      <td>84.67</td>\n",
       "      <td>0</td>\n",
       "      <td>1</td>\n",
       "      <td>Check-Out</td>\n",
       "      <td>2015-07-07</td>\n",
       "    </tr>\n",
       "    <tr>\n",
       "      <th>43</th>\n",
       "      <td>Resort Hotel</td>\n",
       "      <td>0</td>\n",
       "      <td>70</td>\n",
       "      <td>2015</td>\n",
       "      <td>July</td>\n",
       "      <td>27</td>\n",
       "      <td>2</td>\n",
       "      <td>2</td>\n",
       "      <td>3</td>\n",
       "      <td>2</td>\n",
       "      <td>...</td>\n",
       "      <td>No Deposit</td>\n",
       "      <td>250.00</td>\n",
       "      <td>NaN</td>\n",
       "      <td>0</td>\n",
       "      <td>Transient</td>\n",
       "      <td>137.00</td>\n",
       "      <td>0</td>\n",
       "      <td>1</td>\n",
       "      <td>Check-Out</td>\n",
       "      <td>2015-07-07</td>\n",
       "    </tr>\n",
       "    <tr>\n",
       "      <th>138</th>\n",
       "      <td>Resort Hotel</td>\n",
       "      <td>1</td>\n",
       "      <td>5</td>\n",
       "      <td>2015</td>\n",
       "      <td>July</td>\n",
       "      <td>28</td>\n",
       "      <td>5</td>\n",
       "      <td>1</td>\n",
       "      <td>0</td>\n",
       "      <td>2</td>\n",
       "      <td>...</td>\n",
       "      <td>No Deposit</td>\n",
       "      <td>240.00</td>\n",
       "      <td>NaN</td>\n",
       "      <td>0</td>\n",
       "      <td>Transient</td>\n",
       "      <td>97.00</td>\n",
       "      <td>0</td>\n",
       "      <td>0</td>\n",
       "      <td>Canceled</td>\n",
       "      <td>2015-07-01</td>\n",
       "    </tr>\n",
       "    <tr>\n",
       "      <th>200</th>\n",
       "      <td>Resort Hotel</td>\n",
       "      <td>0</td>\n",
       "      <td>0</td>\n",
       "      <td>2015</td>\n",
       "      <td>July</td>\n",
       "      <td>28</td>\n",
       "      <td>7</td>\n",
       "      <td>0</td>\n",
       "      <td>1</td>\n",
       "      <td>1</td>\n",
       "      <td>...</td>\n",
       "      <td>No Deposit</td>\n",
       "      <td>240.00</td>\n",
       "      <td>NaN</td>\n",
       "      <td>0</td>\n",
       "      <td>Transient</td>\n",
       "      <td>109.80</td>\n",
       "      <td>0</td>\n",
       "      <td>3</td>\n",
       "      <td>Check-Out</td>\n",
       "      <td>2015-07-08</td>\n",
       "    </tr>\n",
       "    <tr>\n",
       "      <th>...</th>\n",
       "      <td>...</td>\n",
       "      <td>...</td>\n",
       "      <td>...</td>\n",
       "      <td>...</td>\n",
       "      <td>...</td>\n",
       "      <td>...</td>\n",
       "      <td>...</td>\n",
       "      <td>...</td>\n",
       "      <td>...</td>\n",
       "      <td>...</td>\n",
       "      <td>...</td>\n",
       "      <td>...</td>\n",
       "      <td>...</td>\n",
       "      <td>...</td>\n",
       "      <td>...</td>\n",
       "      <td>...</td>\n",
       "      <td>...</td>\n",
       "      <td>...</td>\n",
       "      <td>...</td>\n",
       "      <td>...</td>\n",
       "      <td>...</td>\n",
       "    </tr>\n",
       "    <tr>\n",
       "      <th>119349</th>\n",
       "      <td>City Hotel</td>\n",
       "      <td>0</td>\n",
       "      <td>186</td>\n",
       "      <td>2017</td>\n",
       "      <td>August</td>\n",
       "      <td>35</td>\n",
       "      <td>31</td>\n",
       "      <td>0</td>\n",
       "      <td>3</td>\n",
       "      <td>2</td>\n",
       "      <td>...</td>\n",
       "      <td>No Deposit</td>\n",
       "      <td>9.00</td>\n",
       "      <td>NaN</td>\n",
       "      <td>0</td>\n",
       "      <td>Transient</td>\n",
       "      <td>126.00</td>\n",
       "      <td>0</td>\n",
       "      <td>2</td>\n",
       "      <td>Check-Out</td>\n",
       "      <td>2017-09-03</td>\n",
       "    </tr>\n",
       "    <tr>\n",
       "      <th>119352</th>\n",
       "      <td>City Hotel</td>\n",
       "      <td>0</td>\n",
       "      <td>63</td>\n",
       "      <td>2017</td>\n",
       "      <td>August</td>\n",
       "      <td>35</td>\n",
       "      <td>31</td>\n",
       "      <td>0</td>\n",
       "      <td>3</td>\n",
       "      <td>3</td>\n",
       "      <td>...</td>\n",
       "      <td>No Deposit</td>\n",
       "      <td>9.00</td>\n",
       "      <td>NaN</td>\n",
       "      <td>0</td>\n",
       "      <td>Transient-Party</td>\n",
       "      <td>195.33</td>\n",
       "      <td>0</td>\n",
       "      <td>2</td>\n",
       "      <td>Check-Out</td>\n",
       "      <td>2017-09-03</td>\n",
       "    </tr>\n",
       "    <tr>\n",
       "      <th>119353</th>\n",
       "      <td>City Hotel</td>\n",
       "      <td>0</td>\n",
       "      <td>63</td>\n",
       "      <td>2017</td>\n",
       "      <td>August</td>\n",
       "      <td>35</td>\n",
       "      <td>31</td>\n",
       "      <td>0</td>\n",
       "      <td>3</td>\n",
       "      <td>3</td>\n",
       "      <td>...</td>\n",
       "      <td>No Deposit</td>\n",
       "      <td>9.00</td>\n",
       "      <td>NaN</td>\n",
       "      <td>0</td>\n",
       "      <td>Transient-Party</td>\n",
       "      <td>195.33</td>\n",
       "      <td>0</td>\n",
       "      <td>2</td>\n",
       "      <td>Check-Out</td>\n",
       "      <td>2017-09-03</td>\n",
       "    </tr>\n",
       "    <tr>\n",
       "      <th>119354</th>\n",
       "      <td>City Hotel</td>\n",
       "      <td>0</td>\n",
       "      <td>63</td>\n",
       "      <td>2017</td>\n",
       "      <td>August</td>\n",
       "      <td>35</td>\n",
       "      <td>31</td>\n",
       "      <td>0</td>\n",
       "      <td>3</td>\n",
       "      <td>3</td>\n",
       "      <td>...</td>\n",
       "      <td>No Deposit</td>\n",
       "      <td>9.00</td>\n",
       "      <td>NaN</td>\n",
       "      <td>0</td>\n",
       "      <td>Transient-Party</td>\n",
       "      <td>195.33</td>\n",
       "      <td>0</td>\n",
       "      <td>2</td>\n",
       "      <td>Check-Out</td>\n",
       "      <td>2017-09-03</td>\n",
       "    </tr>\n",
       "    <tr>\n",
       "      <th>119373</th>\n",
       "      <td>City Hotel</td>\n",
       "      <td>0</td>\n",
       "      <td>175</td>\n",
       "      <td>2017</td>\n",
       "      <td>August</td>\n",
       "      <td>35</td>\n",
       "      <td>31</td>\n",
       "      <td>1</td>\n",
       "      <td>3</td>\n",
       "      <td>1</td>\n",
       "      <td>...</td>\n",
       "      <td>No Deposit</td>\n",
       "      <td>42.00</td>\n",
       "      <td>NaN</td>\n",
       "      <td>0</td>\n",
       "      <td>Transient</td>\n",
       "      <td>82.35</td>\n",
       "      <td>0</td>\n",
       "      <td>1</td>\n",
       "      <td>Check-Out</td>\n",
       "      <td>2017-09-04</td>\n",
       "    </tr>\n",
       "  </tbody>\n",
       "</table>\n",
       "<p>31994 rows × 32 columns</p>\n",
       "</div>"
      ],
      "text/plain": [
       "               hotel  is_canceled  lead_time  arrival_date_year  \\\n",
       "5       Resort Hotel            0         14               2015   \n",
       "22      Resort Hotel            0         72               2015   \n",
       "43      Resort Hotel            0         70               2015   \n",
       "138     Resort Hotel            1          5               2015   \n",
       "200     Resort Hotel            0          0               2015   \n",
       "...              ...          ...        ...                ...   \n",
       "119349    City Hotel            0        186               2017   \n",
       "119352    City Hotel            0         63               2017   \n",
       "119353    City Hotel            0         63               2017   \n",
       "119354    City Hotel            0         63               2017   \n",
       "119373    City Hotel            0        175               2017   \n",
       "\n",
       "       arrival_date_month  arrival_date_week_number  \\\n",
       "5                    July                        27   \n",
       "22                   July                        27   \n",
       "43                   July                        27   \n",
       "138                  July                        28   \n",
       "200                  July                        28   \n",
       "...                   ...                       ...   \n",
       "119349             August                        35   \n",
       "119352             August                        35   \n",
       "119353             August                        35   \n",
       "119354             August                        35   \n",
       "119373             August                        35   \n",
       "\n",
       "        arrival_date_day_of_month  stays_in_weekend_nights  \\\n",
       "5                               1                        0   \n",
       "22                              1                        2   \n",
       "43                              2                        2   \n",
       "138                             5                        1   \n",
       "200                             7                        0   \n",
       "...                           ...                      ...   \n",
       "119349                         31                        0   \n",
       "119352                         31                        0   \n",
       "119353                         31                        0   \n",
       "119354                         31                        0   \n",
       "119373                         31                        1   \n",
       "\n",
       "        stays_in_week_nights  adults  ...  deposit_type  agent company  \\\n",
       "5                          2       2  ...    No Deposit 240.00     NaN   \n",
       "22                         4       2  ...    No Deposit 250.00     NaN   \n",
       "43                         3       2  ...    No Deposit 250.00     NaN   \n",
       "138                        0       2  ...    No Deposit 240.00     NaN   \n",
       "200                        1       1  ...    No Deposit 240.00     NaN   \n",
       "...                      ...     ...  ...           ...    ...     ...   \n",
       "119349                     3       2  ...    No Deposit   9.00     NaN   \n",
       "119352                     3       3  ...    No Deposit   9.00     NaN   \n",
       "119353                     3       3  ...    No Deposit   9.00     NaN   \n",
       "119354                     3       3  ...    No Deposit   9.00     NaN   \n",
       "119373                     3       1  ...    No Deposit  42.00     NaN   \n",
       "\n",
       "       days_in_waiting_list    customer_type    adr  \\\n",
       "5                         0        Transient  98.00   \n",
       "22                        0        Transient  84.67   \n",
       "43                        0        Transient 137.00   \n",
       "138                       0        Transient  97.00   \n",
       "200                       0        Transient 109.80   \n",
       "...                     ...              ...    ...   \n",
       "119349                    0        Transient 126.00   \n",
       "119352                    0  Transient-Party 195.33   \n",
       "119353                    0  Transient-Party 195.33   \n",
       "119354                    0  Transient-Party 195.33   \n",
       "119373                    0        Transient  82.35   \n",
       "\n",
       "        required_car_parking_spaces  total_of_special_requests  \\\n",
       "5                                 0                          1   \n",
       "22                                0                          1   \n",
       "43                                0                          1   \n",
       "138                               0                          0   \n",
       "200                               0                          3   \n",
       "...                             ...                        ...   \n",
       "119349                            0                          2   \n",
       "119352                            0                          2   \n",
       "119353                            0                          2   \n",
       "119354                            0                          2   \n",
       "119373                            0                          1   \n",
       "\n",
       "        reservation_status reservation_status_date  \n",
       "5                Check-Out              2015-07-03  \n",
       "22               Check-Out              2015-07-07  \n",
       "43               Check-Out              2015-07-07  \n",
       "138               Canceled              2015-07-01  \n",
       "200              Check-Out              2015-07-08  \n",
       "...                    ...                     ...  \n",
       "119349           Check-Out              2017-09-03  \n",
       "119352           Check-Out              2017-09-03  \n",
       "119353           Check-Out              2017-09-03  \n",
       "119354           Check-Out              2017-09-03  \n",
       "119373           Check-Out              2017-09-04  \n",
       "\n",
       "[31994 rows x 32 columns]"
      ]
     },
     "execution_count": 688,
     "metadata": {},
     "output_type": "execute_result"
    }
   ],
   "source": [
    "#see duplicate rows\n",
    "df[df.duplicated()]\n",
    "#df.duplicated().shape"
   ]
  },
  {
   "cell_type": "code",
   "execution_count": 689,
   "id": "22c38933-522a-4e0d-861b-2f66c7aa0630",
   "metadata": {},
   "outputs": [
    {
     "data": {
      "text/plain": [
       "(87396, 32)"
      ]
     },
     "execution_count": 689,
     "metadata": {},
     "output_type": "execute_result"
    }
   ],
   "source": [
    "#drop duplicates\n",
    "df.drop_duplicates(inplace = True)\n",
    "df.shape"
   ]
  },
  {
   "cell_type": "code",
   "execution_count": 690,
   "id": "dd2e2597-00a5-4c4a-b7a0-5c6170f2b2bb",
   "metadata": {},
   "outputs": [
    {
     "data": {
      "text/plain": [
       "company                        82137\n",
       "agent                          12193\n",
       "country                          452\n",
       "children                           4\n",
       "reserved_room_type                 0\n",
       "assigned_room_type                 0\n",
       "booking_changes                    0\n",
       "deposit_type                       0\n",
       "hotel                              0\n",
       "previous_cancellations             0\n",
       "days_in_waiting_list               0\n",
       "customer_type                      0\n",
       "adr                                0\n",
       "required_car_parking_spaces        0\n",
       "total_of_special_requests          0\n",
       "dtype: int64"
      ]
     },
     "execution_count": 690,
     "metadata": {},
     "output_type": "execute_result"
    }
   ],
   "source": [
    "df.isnull().sum().sort_values(ascending = False)[0:15]"
   ]
  },
  {
   "cell_type": "markdown",
   "id": "4cd078e1-f7c7-4eae-8dd5-ade1400fe20c",
   "metadata": {},
   "source": [
    "It makes sense for the company and agent field to be empty. It could mean that the reservation was made directly by the customer.\n",
    "We can go ahead and fill with 0"
   ]
  },
  {
   "cell_type": "code",
   "execution_count": 691,
   "id": "73d0f759-9fba-415d-9906-29a65d2e17a9",
   "metadata": {},
   "outputs": [
    {
     "data": {
      "text/plain": [
       "country                        452\n",
       "children                         4\n",
       "hotel                            0\n",
       "agent                            0\n",
       "reserved_room_type               0\n",
       "assigned_room_type               0\n",
       "booking_changes                  0\n",
       "deposit_type                     0\n",
       "company                          0\n",
       "previous_cancellations           0\n",
       "days_in_waiting_list             0\n",
       "customer_type                    0\n",
       "adr                              0\n",
       "required_car_parking_spaces      0\n",
       "total_of_special_requests        0\n",
       "dtype: int64"
      ]
     },
     "execution_count": 691,
     "metadata": {},
     "output_type": "execute_result"
    }
   ],
   "source": [
    "df[['agent','company']] = df[['agent','company']].fillna(0)\n",
    "df.isnull().sum().sort_values(ascending = False)[:15]"
   ]
  },
  {
   "cell_type": "markdown",
   "id": "0d962e8b-750a-4f1a-aa1c-e9926f9057cf",
   "metadata": {},
   "source": [
    "We can replace null country with 'n/a'"
   ]
  },
  {
   "cell_type": "code",
   "execution_count": 692,
   "id": "4ba25d8b-b38a-4651-aa01-dd0823e87296",
   "metadata": {},
   "outputs": [
    {
     "data": {
      "text/plain": [
       "hotel                             0\n",
       "is_canceled                       0\n",
       "lead_time                         0\n",
       "arrival_date_year                 0\n",
       "arrival_date_month                0\n",
       "arrival_date_week_number          0\n",
       "arrival_date_day_of_month         0\n",
       "stays_in_weekend_nights           0\n",
       "stays_in_week_nights              0\n",
       "adults                            0\n",
       "children                          4\n",
       "babies                            0\n",
       "meal                              0\n",
       "country                           0\n",
       "market_segment                    0\n",
       "distribution_channel              0\n",
       "is_repeated_guest                 0\n",
       "previous_cancellations            0\n",
       "previous_bookings_not_canceled    0\n",
       "reserved_room_type                0\n",
       "assigned_room_type                0\n",
       "booking_changes                   0\n",
       "deposit_type                      0\n",
       "agent                             0\n",
       "company                           0\n",
       "days_in_waiting_list              0\n",
       "customer_type                     0\n",
       "adr                               0\n",
       "required_car_parking_spaces       0\n",
       "total_of_special_requests         0\n",
       "reservation_status                0\n",
       "reservation_status_date           0\n",
       "dtype: int64"
      ]
     },
     "execution_count": 692,
     "metadata": {},
     "output_type": "execute_result"
    }
   ],
   "source": [
    "df['country'] = df['country'].fillna(0)\n",
    "df.isnull().sum()"
   ]
  },
  {
   "cell_type": "code",
   "execution_count": 693,
   "id": "a80d8717-6007-4bd7-8998-5ade9538d0be",
   "metadata": {},
   "outputs": [
    {
     "data": {
      "text/plain": [
       "hotel                             0\n",
       "is_canceled                       0\n",
       "reservation_status                0\n",
       "total_of_special_requests         0\n",
       "required_car_parking_spaces       0\n",
       "adr                               0\n",
       "customer_type                     0\n",
       "days_in_waiting_list              0\n",
       "company                           0\n",
       "agent                             0\n",
       "deposit_type                      0\n",
       "booking_changes                   0\n",
       "assigned_room_type                0\n",
       "reserved_room_type                0\n",
       "previous_bookings_not_canceled    0\n",
       "previous_cancellations            0\n",
       "is_repeated_guest                 0\n",
       "distribution_channel              0\n",
       "market_segment                    0\n",
       "country                           0\n",
       "meal                              0\n",
       "babies                            0\n",
       "children                          0\n",
       "adults                            0\n",
       "stays_in_week_nights              0\n",
       "stays_in_weekend_nights           0\n",
       "arrival_date_day_of_month         0\n",
       "arrival_date_week_number          0\n",
       "arrival_date_month                0\n",
       "arrival_date_year                 0\n",
       "lead_time                         0\n",
       "reservation_status_date           0\n",
       "dtype: int64"
      ]
     },
     "execution_count": 693,
     "metadata": {},
     "output_type": "execute_result"
    }
   ],
   "source": [
    "df['children'].fillna(df['children'].mean(), inplace = True)\n",
    "df.isna().sum().sort_values(ascending = False)"
   ]
  },
  {
   "cell_type": "code",
   "execution_count": 694,
   "id": "4502ddc0-ee0c-4487-8f58-7ea3f66b1b2f",
   "metadata": {
    "tags": []
   },
   "outputs": [
    {
     "name": "stdout",
     "output_type": "stream",
     "text": [
      "<class 'pandas.core.frame.DataFrame'>\n",
      "Int64Index: 87396 entries, 0 to 119389\n",
      "Data columns (total 32 columns):\n",
      " #   Column                          Non-Null Count  Dtype  \n",
      "---  ------                          --------------  -----  \n",
      " 0   hotel                           87396 non-null  object \n",
      " 1   is_canceled                     87396 non-null  int64  \n",
      " 2   lead_time                       87396 non-null  int64  \n",
      " 3   arrival_date_year               87396 non-null  int64  \n",
      " 4   arrival_date_month              87396 non-null  object \n",
      " 5   arrival_date_week_number        87396 non-null  int64  \n",
      " 6   arrival_date_day_of_month       87396 non-null  int64  \n",
      " 7   stays_in_weekend_nights         87396 non-null  int64  \n",
      " 8   stays_in_week_nights            87396 non-null  int64  \n",
      " 9   adults                          87396 non-null  int64  \n",
      " 10  children                        87396 non-null  int64  \n",
      " 11  babies                          87396 non-null  int64  \n",
      " 12  meal                            87396 non-null  object \n",
      " 13  country                         87396 non-null  object \n",
      " 14  market_segment                  87396 non-null  object \n",
      " 15  distribution_channel            87396 non-null  object \n",
      " 16  is_repeated_guest               87396 non-null  int64  \n",
      " 17  previous_cancellations          87396 non-null  int64  \n",
      " 18  previous_bookings_not_canceled  87396 non-null  int64  \n",
      " 19  reserved_room_type              87396 non-null  object \n",
      " 20  assigned_room_type              87396 non-null  object \n",
      " 21  booking_changes                 87396 non-null  int64  \n",
      " 22  deposit_type                    87396 non-null  object \n",
      " 23  agent                           87396 non-null  int64  \n",
      " 24  company                         87396 non-null  int64  \n",
      " 25  days_in_waiting_list            87396 non-null  int64  \n",
      " 26  customer_type                   87396 non-null  object \n",
      " 27  adr                             87396 non-null  float64\n",
      " 28  required_car_parking_spaces     87396 non-null  int64  \n",
      " 29  total_of_special_requests       87396 non-null  int64  \n",
      " 30  reservation_status              87396 non-null  object \n",
      " 31  reservation_status_date         87396 non-null  object \n",
      "dtypes: float64(1), int64(19), object(12)\n",
      "memory usage: 22.0+ MB\n"
     ]
    }
   ],
   "source": [
    "#We can now ensure data types are accurately set\n",
    "df[['children', 'agent','company']] = df[['children', 'agent','company']].astype('int64')\n",
    "df.info()\n",
    "#the reason is simple, we need the need them all in intiger data type to perform analysis on them"
   ]
  },
  {
   "cell_type": "code",
   "execution_count": 695,
   "id": "26bc50d6-cbfa-402e-a430-7382e7cd6c0f",
   "metadata": {},
   "outputs": [
    {
     "name": "stdout",
     "output_type": "stream",
     "text": [
      "<class 'pandas.core.frame.DataFrame'>\n",
      "Int64Index: 87396 entries, 0 to 119389\n",
      "Data columns (total 32 columns):\n",
      " #   Column                          Non-Null Count  Dtype         \n",
      "---  ------                          --------------  -----         \n",
      " 0   hotel                           87396 non-null  object        \n",
      " 1   is_canceled                     87396 non-null  int64         \n",
      " 2   lead_time                       87396 non-null  int64         \n",
      " 3   arrival_date_year               87396 non-null  int64         \n",
      " 4   arrival_date_month              87396 non-null  object        \n",
      " 5   arrival_date_week_number        87396 non-null  int64         \n",
      " 6   arrival_date_day_of_month       87396 non-null  int64         \n",
      " 7   stays_in_weekend_nights         87396 non-null  int64         \n",
      " 8   stays_in_week_nights            87396 non-null  int64         \n",
      " 9   adults                          87396 non-null  int64         \n",
      " 10  children                        87396 non-null  int64         \n",
      " 11  babies                          87396 non-null  int64         \n",
      " 12  meal                            87396 non-null  object        \n",
      " 13  country                         87396 non-null  object        \n",
      " 14  market_segment                  87396 non-null  object        \n",
      " 15  distribution_channel            87396 non-null  object        \n",
      " 16  is_repeated_guest               87396 non-null  int64         \n",
      " 17  previous_cancellations          87396 non-null  int64         \n",
      " 18  previous_bookings_not_canceled  87396 non-null  int64         \n",
      " 19  reserved_room_type              87396 non-null  object        \n",
      " 20  assigned_room_type              87396 non-null  object        \n",
      " 21  booking_changes                 87396 non-null  int64         \n",
      " 22  deposit_type                    87396 non-null  object        \n",
      " 23  agent                           87396 non-null  int64         \n",
      " 24  company                         87396 non-null  int64         \n",
      " 25  days_in_waiting_list            87396 non-null  int64         \n",
      " 26  customer_type                   87396 non-null  object        \n",
      " 27  adr                             87396 non-null  float64       \n",
      " 28  required_car_parking_spaces     87396 non-null  int64         \n",
      " 29  total_of_special_requests       87396 non-null  int64         \n",
      " 30  reservation_status              87396 non-null  object        \n",
      " 31  reservation_status_date         87396 non-null  datetime64[ns]\n",
      "dtypes: datetime64[ns](1), float64(1), int64(19), object(11)\n",
      "memory usage: 22.0+ MB\n"
     ]
    }
   ],
   "source": [
    "df[['arrival_date_year','arrival_date_month','reservation_status_date']]\n",
    "df['reservation_status_date'] =pd.to_datetime(df['reservation_status_date'],format = '%Y-%m-%d')\n",
    "df.info()"
   ]
  },
  {
   "cell_type": "code",
   "execution_count": 696,
   "id": "3633dd30-aacf-4a23-ae87-682b6bb25ad6",
   "metadata": {},
   "outputs": [],
   "source": [
    "#let's sum up all individuals into one field\n",
    "df[['adults','children','babies']]\n",
    "df['total_people'] = df['adults'] + df['children'] +df['babies']\n"
   ]
  },
  {
   "cell_type": "code",
   "execution_count": 697,
   "id": "0617dbdc-628c-4146-a4ad-e40f4bdc16d7",
   "metadata": {},
   "outputs": [],
   "source": [
    "#let's sum up all days stayed into one field\n",
    "df['total_stay'] =df['stays_in_weekend_nights'] + df['stays_in_week_nights']"
   ]
  },
  {
   "cell_type": "code",
   "execution_count": 698,
   "id": "71c61352-ad64-43c0-ab42-be855956c945",
   "metadata": {},
   "outputs": [],
   "source": [
    "df.drop(df[df['adults'] + df['children'] +df['babies'] == 0].index,inplace = True)"
   ]
  },
  {
   "cell_type": "code",
   "execution_count": 699,
   "id": "5709f165-077b-4ff5-86f5-eb9ce4826faa",
   "metadata": {},
   "outputs": [],
   "source": [
    "#let's create two additional fields for couples and family\n",
    "# type_of_customer = []\n",
    "# for a,b,c in zip(df.adults, df.children, df.babies):\n",
    "#     if a == 1:\n",
    "#         if b == 0:\n",
    "#             if c == 0:\n",
    "#                 type_of_customer.append('single')\n",
    "#     elif a > 1:\n",
    "#         if b == 0:\n",
    "#             if c == 0:\n",
    "#                 type_of_customer.append('couple')\n",
    "#     elif a >= 1:\n",
    "#         if b >= 1:\n",
    "#             if c >= 1:\n",
    "#                 type_of_customer.append('family')     \n",
    "#     else:\n",
    "#         type_of_customer.append(None)\n",
    "\n",
    "\n",
    "type_of_customer = []\n",
    "for a,b,c in zip(df.adults, df.children, df.babies):\n",
    "    if a == 1 and b == 0 and c == 0:\n",
    "                type_of_customer.append('single')\n",
    "    elif a > 1 and b == 0 and c == 0:\n",
    "                type_of_customer.append('couple')\n",
    "    elif a >= 1 and b >= 1 and c >= 1:\n",
    "                type_of_customer.append('family')     \n",
    "    else:\n",
    "        type_of_customer.append(None)\n",
    "        \n",
    "df['type_of_customer'] = type_of_customer"
   ]
  },
  {
   "cell_type": "code",
   "execution_count": 700,
   "id": "f84a868c-232c-4bb4-9353-c75ef0cffe0a",
   "metadata": {},
   "outputs": [
    {
     "data": {
      "text/plain": [
       "Index(['hotel', 'is_canceled', 'lead_time', 'arrival_date_year',\n",
       "       'arrival_date_month', 'arrival_date_week_number',\n",
       "       'arrival_date_day_of_month', 'stays_in_weekend_nights',\n",
       "       'stays_in_week_nights', 'adults', 'children', 'babies', 'meal',\n",
       "       'country', 'market_segment', 'distribution_channel',\n",
       "       'is_repeated_guest', 'previous_cancellations',\n",
       "       'previous_bookings_not_canceled', 'reserved_room_type',\n",
       "       'assigned_room_type', 'booking_changes', 'deposit_type', 'agent',\n",
       "       'company', 'days_in_waiting_list', 'customer_type', 'adr',\n",
       "       'required_car_parking_spaces', 'total_of_special_requests',\n",
       "       'reservation_status', 'reservation_status_date', 'total_people',\n",
       "       'total_stay', 'type_of_customer'],\n",
       "      dtype='object')"
      ]
     },
     "execution_count": 700,
     "metadata": {},
     "output_type": "execute_result"
    }
   ],
   "source": [
    "df.columns"
   ]
  },
  {
   "cell_type": "code",
   "execution_count": 701,
   "id": "c60c1500-d7ac-4212-8ef7-2a6627d8917e",
   "metadata": {},
   "outputs": [],
   "source": [
    "#drop unnecessary columns since we have created replacements\n",
    "df_nu = df.drop(columns =['stays_in_weekend_nights','stays_in_week_nights','adults', 'children', 'babies'])\n",
    "clean = df_nu[df_nu['is_canceled'] != 1] #lets separate uncancelled trips\n",
    "cancelled = df_nu[df_nu['is_canceled'] == 1] #JKBJKAD"
   ]
  },
  {
   "cell_type": "code",
   "execution_count": 702,
   "id": "8c42df50-b7dd-4c46-bf8c-193059e5feb1",
   "metadata": {},
   "outputs": [
    {
     "name": "stderr",
     "output_type": "stream",
     "text": [
      "C:\\Users\\KAYODE~2\\AppData\\Local\\Temp/ipykernel_14892/3523706789.py:1: SettingWithCopyWarning: \n",
      "A value is trying to be set on a copy of a slice from a DataFrame\n",
      "\n",
      "See the caveats in the documentation: https://pandas.pydata.org/pandas-docs/stable/user_guide/indexing.html#returning-a-view-versus-a-copy\n",
      "  clean.drop(clean[clean['adr'] > 3000].index, inplace = True)\n",
      "C:\\Users\\KAYODE~2\\AppData\\Local\\Temp/ipykernel_14892/3523706789.py:2: SettingWithCopyWarning: \n",
      "A value is trying to be set on a copy of a slice from a DataFrame\n",
      "\n",
      "See the caveats in the documentation: https://pandas.pydata.org/pandas-docs/stable/user_guide/indexing.html#returning-a-view-versus-a-copy\n",
      "  clean.drop(clean[clean['adr'] <= 0].index, inplace = True)\n",
      "C:\\Users\\KAYODE~2\\AppData\\Local\\Temp/ipykernel_14892/3523706789.py:3: UserWarning: Boolean Series key will be reindexed to match DataFrame index.\n",
      "  clean[df_nu['adr'] == clean['adr'].max()]\n"
     ]
    },
    {
     "data": {
      "text/html": [
       "<div>\n",
       "<style scoped>\n",
       "    .dataframe tbody tr th:only-of-type {\n",
       "        vertical-align: middle;\n",
       "    }\n",
       "\n",
       "    .dataframe tbody tr th {\n",
       "        vertical-align: top;\n",
       "    }\n",
       "\n",
       "    .dataframe thead th {\n",
       "        text-align: right;\n",
       "    }\n",
       "</style>\n",
       "<table border=\"1\" class=\"dataframe\">\n",
       "  <thead>\n",
       "    <tr style=\"text-align: right;\">\n",
       "      <th></th>\n",
       "      <th>hotel</th>\n",
       "      <th>is_canceled</th>\n",
       "      <th>lead_time</th>\n",
       "      <th>arrival_date_year</th>\n",
       "      <th>arrival_date_month</th>\n",
       "      <th>arrival_date_week_number</th>\n",
       "      <th>arrival_date_day_of_month</th>\n",
       "      <th>meal</th>\n",
       "      <th>country</th>\n",
       "      <th>market_segment</th>\n",
       "      <th>...</th>\n",
       "      <th>days_in_waiting_list</th>\n",
       "      <th>customer_type</th>\n",
       "      <th>adr</th>\n",
       "      <th>required_car_parking_spaces</th>\n",
       "      <th>total_of_special_requests</th>\n",
       "      <th>reservation_status</th>\n",
       "      <th>reservation_status_date</th>\n",
       "      <th>total_people</th>\n",
       "      <th>total_stay</th>\n",
       "      <th>type_of_customer</th>\n",
       "    </tr>\n",
       "  </thead>\n",
       "  <tbody>\n",
       "    <tr>\n",
       "      <th>2</th>\n",
       "      <td>Resort Hotel</td>\n",
       "      <td>0</td>\n",
       "      <td>7</td>\n",
       "      <td>2015</td>\n",
       "      <td>July</td>\n",
       "      <td>27</td>\n",
       "      <td>1</td>\n",
       "      <td>BB</td>\n",
       "      <td>GBR</td>\n",
       "      <td>Direct</td>\n",
       "      <td>...</td>\n",
       "      <td>0</td>\n",
       "      <td>Transient</td>\n",
       "      <td>75.00</td>\n",
       "      <td>0</td>\n",
       "      <td>0</td>\n",
       "      <td>Check-Out</td>\n",
       "      <td>2015-07-02</td>\n",
       "      <td>1</td>\n",
       "      <td>1</td>\n",
       "      <td>single</td>\n",
       "    </tr>\n",
       "    <tr>\n",
       "      <th>3</th>\n",
       "      <td>Resort Hotel</td>\n",
       "      <td>0</td>\n",
       "      <td>13</td>\n",
       "      <td>2015</td>\n",
       "      <td>July</td>\n",
       "      <td>27</td>\n",
       "      <td>1</td>\n",
       "      <td>BB</td>\n",
       "      <td>GBR</td>\n",
       "      <td>Corporate</td>\n",
       "      <td>...</td>\n",
       "      <td>0</td>\n",
       "      <td>Transient</td>\n",
       "      <td>75.00</td>\n",
       "      <td>0</td>\n",
       "      <td>0</td>\n",
       "      <td>Check-Out</td>\n",
       "      <td>2015-07-02</td>\n",
       "      <td>1</td>\n",
       "      <td>1</td>\n",
       "      <td>single</td>\n",
       "    </tr>\n",
       "    <tr>\n",
       "      <th>4</th>\n",
       "      <td>Resort Hotel</td>\n",
       "      <td>0</td>\n",
       "      <td>14</td>\n",
       "      <td>2015</td>\n",
       "      <td>July</td>\n",
       "      <td>27</td>\n",
       "      <td>1</td>\n",
       "      <td>BB</td>\n",
       "      <td>GBR</td>\n",
       "      <td>Online TA</td>\n",
       "      <td>...</td>\n",
       "      <td>0</td>\n",
       "      <td>Transient</td>\n",
       "      <td>98.00</td>\n",
       "      <td>0</td>\n",
       "      <td>1</td>\n",
       "      <td>Check-Out</td>\n",
       "      <td>2015-07-03</td>\n",
       "      <td>2</td>\n",
       "      <td>2</td>\n",
       "      <td>couple</td>\n",
       "    </tr>\n",
       "    <tr>\n",
       "      <th>6</th>\n",
       "      <td>Resort Hotel</td>\n",
       "      <td>0</td>\n",
       "      <td>0</td>\n",
       "      <td>2015</td>\n",
       "      <td>July</td>\n",
       "      <td>27</td>\n",
       "      <td>1</td>\n",
       "      <td>BB</td>\n",
       "      <td>PRT</td>\n",
       "      <td>Direct</td>\n",
       "      <td>...</td>\n",
       "      <td>0</td>\n",
       "      <td>Transient</td>\n",
       "      <td>107.00</td>\n",
       "      <td>0</td>\n",
       "      <td>0</td>\n",
       "      <td>Check-Out</td>\n",
       "      <td>2015-07-03</td>\n",
       "      <td>2</td>\n",
       "      <td>2</td>\n",
       "      <td>couple</td>\n",
       "    </tr>\n",
       "    <tr>\n",
       "      <th>7</th>\n",
       "      <td>Resort Hotel</td>\n",
       "      <td>0</td>\n",
       "      <td>9</td>\n",
       "      <td>2015</td>\n",
       "      <td>July</td>\n",
       "      <td>27</td>\n",
       "      <td>1</td>\n",
       "      <td>FB</td>\n",
       "      <td>PRT</td>\n",
       "      <td>Direct</td>\n",
       "      <td>...</td>\n",
       "      <td>0</td>\n",
       "      <td>Transient</td>\n",
       "      <td>103.00</td>\n",
       "      <td>0</td>\n",
       "      <td>1</td>\n",
       "      <td>Check-Out</td>\n",
       "      <td>2015-07-03</td>\n",
       "      <td>2</td>\n",
       "      <td>2</td>\n",
       "      <td>couple</td>\n",
       "    </tr>\n",
       "    <tr>\n",
       "      <th>...</th>\n",
       "      <td>...</td>\n",
       "      <td>...</td>\n",
       "      <td>...</td>\n",
       "      <td>...</td>\n",
       "      <td>...</td>\n",
       "      <td>...</td>\n",
       "      <td>...</td>\n",
       "      <td>...</td>\n",
       "      <td>...</td>\n",
       "      <td>...</td>\n",
       "      <td>...</td>\n",
       "      <td>...</td>\n",
       "      <td>...</td>\n",
       "      <td>...</td>\n",
       "      <td>...</td>\n",
       "      <td>...</td>\n",
       "      <td>...</td>\n",
       "      <td>...</td>\n",
       "      <td>...</td>\n",
       "      <td>...</td>\n",
       "      <td>...</td>\n",
       "    </tr>\n",
       "    <tr>\n",
       "      <th>119385</th>\n",
       "      <td>City Hotel</td>\n",
       "      <td>0</td>\n",
       "      <td>23</td>\n",
       "      <td>2017</td>\n",
       "      <td>August</td>\n",
       "      <td>35</td>\n",
       "      <td>30</td>\n",
       "      <td>BB</td>\n",
       "      <td>BEL</td>\n",
       "      <td>Offline TA/TO</td>\n",
       "      <td>...</td>\n",
       "      <td>0</td>\n",
       "      <td>Transient</td>\n",
       "      <td>96.14</td>\n",
       "      <td>0</td>\n",
       "      <td>0</td>\n",
       "      <td>Check-Out</td>\n",
       "      <td>2017-09-06</td>\n",
       "      <td>2</td>\n",
       "      <td>7</td>\n",
       "      <td>couple</td>\n",
       "    </tr>\n",
       "    <tr>\n",
       "      <th>119386</th>\n",
       "      <td>City Hotel</td>\n",
       "      <td>0</td>\n",
       "      <td>102</td>\n",
       "      <td>2017</td>\n",
       "      <td>August</td>\n",
       "      <td>35</td>\n",
       "      <td>31</td>\n",
       "      <td>BB</td>\n",
       "      <td>FRA</td>\n",
       "      <td>Online TA</td>\n",
       "      <td>...</td>\n",
       "      <td>0</td>\n",
       "      <td>Transient</td>\n",
       "      <td>225.43</td>\n",
       "      <td>0</td>\n",
       "      <td>2</td>\n",
       "      <td>Check-Out</td>\n",
       "      <td>2017-09-07</td>\n",
       "      <td>3</td>\n",
       "      <td>7</td>\n",
       "      <td>couple</td>\n",
       "    </tr>\n",
       "    <tr>\n",
       "      <th>119387</th>\n",
       "      <td>City Hotel</td>\n",
       "      <td>0</td>\n",
       "      <td>34</td>\n",
       "      <td>2017</td>\n",
       "      <td>August</td>\n",
       "      <td>35</td>\n",
       "      <td>31</td>\n",
       "      <td>BB</td>\n",
       "      <td>DEU</td>\n",
       "      <td>Online TA</td>\n",
       "      <td>...</td>\n",
       "      <td>0</td>\n",
       "      <td>Transient</td>\n",
       "      <td>157.71</td>\n",
       "      <td>0</td>\n",
       "      <td>4</td>\n",
       "      <td>Check-Out</td>\n",
       "      <td>2017-09-07</td>\n",
       "      <td>2</td>\n",
       "      <td>7</td>\n",
       "      <td>couple</td>\n",
       "    </tr>\n",
       "    <tr>\n",
       "      <th>119388</th>\n",
       "      <td>City Hotel</td>\n",
       "      <td>0</td>\n",
       "      <td>109</td>\n",
       "      <td>2017</td>\n",
       "      <td>August</td>\n",
       "      <td>35</td>\n",
       "      <td>31</td>\n",
       "      <td>BB</td>\n",
       "      <td>GBR</td>\n",
       "      <td>Online TA</td>\n",
       "      <td>...</td>\n",
       "      <td>0</td>\n",
       "      <td>Transient</td>\n",
       "      <td>104.40</td>\n",
       "      <td>0</td>\n",
       "      <td>0</td>\n",
       "      <td>Check-Out</td>\n",
       "      <td>2017-09-07</td>\n",
       "      <td>2</td>\n",
       "      <td>7</td>\n",
       "      <td>couple</td>\n",
       "    </tr>\n",
       "    <tr>\n",
       "      <th>119389</th>\n",
       "      <td>City Hotel</td>\n",
       "      <td>0</td>\n",
       "      <td>205</td>\n",
       "      <td>2017</td>\n",
       "      <td>August</td>\n",
       "      <td>35</td>\n",
       "      <td>29</td>\n",
       "      <td>HB</td>\n",
       "      <td>DEU</td>\n",
       "      <td>Online TA</td>\n",
       "      <td>...</td>\n",
       "      <td>0</td>\n",
       "      <td>Transient</td>\n",
       "      <td>151.20</td>\n",
       "      <td>0</td>\n",
       "      <td>2</td>\n",
       "      <td>Check-Out</td>\n",
       "      <td>2017-09-07</td>\n",
       "      <td>2</td>\n",
       "      <td>9</td>\n",
       "      <td>couple</td>\n",
       "    </tr>\n",
       "  </tbody>\n",
       "</table>\n",
       "<p>61746 rows × 30 columns</p>\n",
       "</div>"
      ],
      "text/plain": [
       "               hotel  is_canceled  lead_time  arrival_date_year  \\\n",
       "2       Resort Hotel            0          7               2015   \n",
       "3       Resort Hotel            0         13               2015   \n",
       "4       Resort Hotel            0         14               2015   \n",
       "6       Resort Hotel            0          0               2015   \n",
       "7       Resort Hotel            0          9               2015   \n",
       "...              ...          ...        ...                ...   \n",
       "119385    City Hotel            0         23               2017   \n",
       "119386    City Hotel            0        102               2017   \n",
       "119387    City Hotel            0         34               2017   \n",
       "119388    City Hotel            0        109               2017   \n",
       "119389    City Hotel            0        205               2017   \n",
       "\n",
       "       arrival_date_month  arrival_date_week_number  \\\n",
       "2                    July                        27   \n",
       "3                    July                        27   \n",
       "4                    July                        27   \n",
       "6                    July                        27   \n",
       "7                    July                        27   \n",
       "...                   ...                       ...   \n",
       "119385             August                        35   \n",
       "119386             August                        35   \n",
       "119387             August                        35   \n",
       "119388             August                        35   \n",
       "119389             August                        35   \n",
       "\n",
       "        arrival_date_day_of_month meal country market_segment  ...  \\\n",
       "2                               1   BB     GBR         Direct  ...   \n",
       "3                               1   BB     GBR      Corporate  ...   \n",
       "4                               1   BB     GBR      Online TA  ...   \n",
       "6                               1   BB     PRT         Direct  ...   \n",
       "7                               1   FB     PRT         Direct  ...   \n",
       "...                           ...  ...     ...            ...  ...   \n",
       "119385                         30   BB     BEL  Offline TA/TO  ...   \n",
       "119386                         31   BB     FRA      Online TA  ...   \n",
       "119387                         31   BB     DEU      Online TA  ...   \n",
       "119388                         31   BB     GBR      Online TA  ...   \n",
       "119389                         29   HB     DEU      Online TA  ...   \n",
       "\n",
       "       days_in_waiting_list  customer_type    adr  \\\n",
       "2                         0      Transient  75.00   \n",
       "3                         0      Transient  75.00   \n",
       "4                         0      Transient  98.00   \n",
       "6                         0      Transient 107.00   \n",
       "7                         0      Transient 103.00   \n",
       "...                     ...            ...    ...   \n",
       "119385                    0      Transient  96.14   \n",
       "119386                    0      Transient 225.43   \n",
       "119387                    0      Transient 157.71   \n",
       "119388                    0      Transient 104.40   \n",
       "119389                    0      Transient 151.20   \n",
       "\n",
       "        required_car_parking_spaces total_of_special_requests  \\\n",
       "2                                 0                         0   \n",
       "3                                 0                         0   \n",
       "4                                 0                         1   \n",
       "6                                 0                         0   \n",
       "7                                 0                         1   \n",
       "...                             ...                       ...   \n",
       "119385                            0                         0   \n",
       "119386                            0                         2   \n",
       "119387                            0                         4   \n",
       "119388                            0                         0   \n",
       "119389                            0                         2   \n",
       "\n",
       "       reservation_status  reservation_status_date total_people  total_stay  \\\n",
       "2               Check-Out               2015-07-02            1           1   \n",
       "3               Check-Out               2015-07-02            1           1   \n",
       "4               Check-Out               2015-07-03            2           2   \n",
       "6               Check-Out               2015-07-03            2           2   \n",
       "7               Check-Out               2015-07-03            2           2   \n",
       "...                   ...                      ...          ...         ...   \n",
       "119385          Check-Out               2017-09-06            2           7   \n",
       "119386          Check-Out               2017-09-07            3           7   \n",
       "119387          Check-Out               2017-09-07            2           7   \n",
       "119388          Check-Out               2017-09-07            2           7   \n",
       "119389          Check-Out               2017-09-07            2           9   \n",
       "\n",
       "        type_of_customer  \n",
       "2                 single  \n",
       "3                 single  \n",
       "4                 couple  \n",
       "6                 couple  \n",
       "7                 couple  \n",
       "...                  ...  \n",
       "119385            couple  \n",
       "119386            couple  \n",
       "119387            couple  \n",
       "119388            couple  \n",
       "119389            couple  \n",
       "\n",
       "[61746 rows x 30 columns]"
      ]
     },
     "execution_count": 702,
     "metadata": {},
     "output_type": "execute_result"
    }
   ],
   "source": [
    "clean.drop(clean[clean['adr'] > 3000].index, inplace = True)\n",
    "clean.drop(clean[clean['adr'] <= 0].index, inplace = True)\n",
    "clean[df_nu['adr'] == clean['adr'].max()]\n",
    "clean"
   ]
  },
  {
   "cell_type": "code",
   "execution_count": 703,
   "id": "47d77f2f-f8dc-4f17-8541-5ef90a0e39f4",
   "metadata": {
    "tags": []
   },
   "outputs": [
    {
     "data": {
      "text/plain": [
       "Index(['hotel', 'is_canceled', 'lead_time', 'arrival_date_year',\n",
       "       'arrival_date_month', 'arrival_date_week_number',\n",
       "       'arrival_date_day_of_month', 'meal', 'country', 'market_segment',\n",
       "       'distribution_channel', 'is_repeated_guest', 'previous_cancellations',\n",
       "       'previous_bookings_not_canceled', 'reserved_room_type',\n",
       "       'assigned_room_type', 'booking_changes', 'deposit_type', 'agent',\n",
       "       'company', 'days_in_waiting_list', 'customer_type', 'adr',\n",
       "       'required_car_parking_spaces', 'total_of_special_requests',\n",
       "       'reservation_status', 'reservation_status_date', 'total_people',\n",
       "       'total_stay', 'type_of_customer'],\n",
       "      dtype='object')"
      ]
     },
     "execution_count": 703,
     "metadata": {},
     "output_type": "execute_result"
    }
   ],
   "source": [
    "df_nu.columns"
   ]
  },
  {
   "cell_type": "markdown",
   "id": "91f31438-203a-4041-9c59-ec7039904cbc",
   "metadata": {
    "tags": []
   },
   "source": [
    "## Analysis"
   ]
  },
  {
   "cell_type": "markdown",
   "id": "81708bd4-d793-4d81-bfd5-eb18d2a4d70c",
   "metadata": {},
   "source": [
    "Which of the hotels gets booked the most?"
   ]
  },
  {
   "cell_type": "code",
   "execution_count": 704,
   "id": "27b42890-f816-4965-aba8-d6c2a836d7f3",
   "metadata": {},
   "outputs": [
    {
     "data": {
      "text/plain": [
       "hotel\n",
       "City Hotel      36382\n",
       "Resort Hotel    25364\n",
       "dtype: int64"
      ]
     },
     "execution_count": 704,
     "metadata": {},
     "output_type": "execute_result"
    }
   ],
   "source": [
    "#let's see a count\n",
    "grpd = clean.groupby(['hotel'])\n",
    "grpd.size()"
   ]
  },
  {
   "cell_type": "code",
   "execution_count": 705,
   "id": "0bf29280-0e87-4a1c-bb8b-82f4caa317b0",
   "metadata": {},
   "outputs": [
    {
     "data": {
      "image/png": "[encoded data removed]",
      "text/plain": [
       "<Figure size 1800x576 with 1 Axes>"
      ]
     },
     "metadata": {
      "needs_background": "light"
     },
     "output_type": "display_data"
    }
   ],
   "source": [
    "# graph might be more appealing\n",
    "booking = pd.DataFrame(grpd.size()).rename(columns = {0 : 'total_booking'}).reset_index()\n",
    "plt.figure(figsize =(25, 8))\n",
    "plot = sbn.barplot(x = booking['hotel'], y = booking['total_booking'])\n",
    "for bar in plot.patches:\n",
    "    plot.annotate(format(bar.get_height(), '.2f'),\n",
    "                   (bar.get_x() + bar.get_width() / 2,\n",
    "                    bar.get_height()), ha='center', va='center',\n",
    "                   size=15, xytext=(0, 8),\n",
    "                   textcoords='offset points')\n",
    "    \n",
    "plt.title(\"Total Booking by hotel\")\n",
    "\n",
    "plt.show()"
   ]
  },
  {
   "cell_type": "code",
   "execution_count": 706,
   "id": "1fa2a16d-3bb9-42ab-86d5-c37feb488bd8",
   "metadata": {},
   "outputs": [
    {
     "data": {
      "text/plain": [
       "56.891271056661566"
      ]
     },
     "execution_count": 706,
     "metadata": {},
     "output_type": "execute_result"
    }
   ],
   "source": [
    "((53274/33956)-1)*100"
   ]
  },
  {
   "cell_type": "markdown",
   "id": "41f99b37-143b-4bae-85db-50ecb6082253",
   "metadata": {},
   "source": [
    "City hotel is 56% more likely to get booked than Resort Hotel. "
   ]
  },
  {
   "cell_type": "markdown",
   "id": "05e1675a-f698-4c05-8170-112d0c5d33d0",
   "metadata": {},
   "source": [
    "What agent makesthe most bookings and how much did they generate? "
   ]
  },
  {
   "cell_type": "code",
   "execution_count": 707,
   "id": "3b3e3555-7438-4b90-90dc-6975a621693a",
   "metadata": {},
   "outputs": [
    {
     "data": {
      "image/png": "[encoded data removed]",
      "text/plain": [
       "<Figure size 1800x576 with 1 Axes>"
      ]
     },
     "metadata": {
      "needs_background": "light"
     },
     "output_type": "display_data"
    }
   ],
   "source": [
    "##agents = df.DataFrame()\n",
    "agent = clean.groupby('agent').agg({'hotel' : 'count', 'adr' : 'sum'}).reset_index()\n",
    "agent.drop(agent[agent['agent'] == 0].index,inplace = True)\n",
    "agent.rename(columns ={'hotel' : 'count', 'adr':\"total_adr\"},inplace = True)\n",
    "agent.sort_values('count', ascending = False, inplace = True)\n",
    "agent = agent.reset_index(drop = True).head(10)\n",
    "\n",
    "plt.figure(figsize =(25, 8))\n",
    "plot = sbn.barplot(x = agent['agent'], y = agent['total_adr'], order = agent.sort_values('total_adr', ascending = False).agent)\n",
    "for bar in plot.patches:\n",
    "    plot.annotate(format(bar.get_height(), '.2f'),\n",
    "                   (bar.get_x() + bar.get_width() / 2,\n",
    "                    bar.get_height()), ha='center', va='center',\n",
    "                   size=15, xytext=(0, 8),\n",
    "                   textcoords='offset points')\n",
    "    \n",
    "plt.title(\"Total Adr by Agent\")\n",
    "\n",
    "plt.show()\n",
    "\n",
    "\n"
   ]
  },
  {
   "cell_type": "markdown",
   "id": "336988ad-deea-4f4f-a5d0-d1cae6c3a4bc",
   "metadata": {},
   "source": [
    "Agent 9 has the highest adr recorded, let's see if they also contribute the most in bookings."
   ]
  },
  {
   "cell_type": "code",
   "execution_count": 708,
   "id": "816d66e9-ab8b-4f0e-b132-137d61920eb8",
   "metadata": {},
   "outputs": [
    {
     "data": {
      "image/png": "[encoded data removed]",
      "text/plain": [
       "<Figure size 1800x576 with 1 Axes>"
      ]
     },
     "metadata": {
      "needs_background": "light"
     },
     "output_type": "display_data"
    }
   ],
   "source": [
    "plt.figure(figsize =(25, 8))\n",
    "plot = sbn.barplot(x = agent['agent'], y = agent['count'], order = agent.sort_values('count', ascending = False).agent)\n",
    "for bar in plot.patches:\n",
    "    plot.annotate(format(bar.get_height(), '.2f'),\n",
    "                   (bar.get_x() + bar.get_width() / 2,\n",
    "                    bar.get_height()), ha='center', va='center',\n",
    "                   size=15, xytext=(0, 8),\n",
    "                   textcoords='offset points')\n",
    "    \n",
    "plt.title(\"Total booking by Agent\")\n",
    "\n",
    "plt.show()"
   ]
  },
  {
   "cell_type": "markdown",
   "id": "ea6ad30c-492c-44fd-b98e-b572a4d5aeac",
   "metadata": {},
   "source": [
    "Agent 9 also has the highest of reservations booked by them."
   ]
  },
  {
   "cell_type": "markdown",
   "id": "c1aefb95-f411-4736-8801-7114eb0fe71b",
   "metadata": {},
   "source": [
    "What room is the most booked?"
   ]
  },
  {
   "cell_type": "code",
   "execution_count": 709,
   "id": "1fd904b0-7b18-4a04-a83a-7164e4cbbbca",
   "metadata": {},
   "outputs": [
    {
     "data": {
      "text/html": [
       "<div>\n",
       "<style scoped>\n",
       "    .dataframe tbody tr th:only-of-type {\n",
       "        vertical-align: middle;\n",
       "    }\n",
       "\n",
       "    .dataframe tbody tr th {\n",
       "        vertical-align: top;\n",
       "    }\n",
       "\n",
       "    .dataframe thead th {\n",
       "        text-align: right;\n",
       "    }\n",
       "</style>\n",
       "<table border=\"1\" class=\"dataframe\">\n",
       "  <thead>\n",
       "    <tr style=\"text-align: right;\">\n",
       "      <th></th>\n",
       "      <th>room_type</th>\n",
       "      <th>bookings</th>\n",
       "      <th>total_adr</th>\n",
       "      <th>avg_adr</th>\n",
       "      <th>max_adr</th>\n",
       "      <th>min_adr</th>\n",
       "    </tr>\n",
       "  </thead>\n",
       "  <tbody>\n",
       "    <tr>\n",
       "      <th>0</th>\n",
       "      <td>A</td>\n",
       "      <td>31521</td>\n",
       "      <td>3009074.14</td>\n",
       "      <td>95.46</td>\n",
       "      <td>337.00</td>\n",
       "      <td>1.00</td>\n",
       "    </tr>\n",
       "    <tr>\n",
       "      <th>1</th>\n",
       "      <td>B</td>\n",
       "      <td>1361</td>\n",
       "      <td>135225.55</td>\n",
       "      <td>99.36</td>\n",
       "      <td>276.00</td>\n",
       "      <td>1.00</td>\n",
       "    </tr>\n",
       "    <tr>\n",
       "      <th>2</th>\n",
       "      <td>C</td>\n",
       "      <td>1727</td>\n",
       "      <td>193512.43</td>\n",
       "      <td>112.05</td>\n",
       "      <td>508.00</td>\n",
       "      <td>4.00</td>\n",
       "    </tr>\n",
       "    <tr>\n",
       "      <th>3</th>\n",
       "      <td>D</td>\n",
       "      <td>16724</td>\n",
       "      <td>1736164.20</td>\n",
       "      <td>103.81</td>\n",
       "      <td>375.50</td>\n",
       "      <td>1.00</td>\n",
       "    </tr>\n",
       "    <tr>\n",
       "      <th>4</th>\n",
       "      <td>E</td>\n",
       "      <td>5399</td>\n",
       "      <td>620423.75</td>\n",
       "      <td>114.91</td>\n",
       "      <td>451.50</td>\n",
       "      <td>2.00</td>\n",
       "    </tr>\n",
       "    <tr>\n",
       "      <th>5</th>\n",
       "      <td>F</td>\n",
       "      <td>2645</td>\n",
       "      <td>391550.75</td>\n",
       "      <td>148.03</td>\n",
       "      <td>368.10</td>\n",
       "      <td>2.00</td>\n",
       "    </tr>\n",
       "    <tr>\n",
       "      <th>6</th>\n",
       "      <td>G</td>\n",
       "      <td>1657</td>\n",
       "      <td>277074.84</td>\n",
       "      <td>167.21</td>\n",
       "      <td>510.00</td>\n",
       "      <td>1.00</td>\n",
       "    </tr>\n",
       "    <tr>\n",
       "      <th>7</th>\n",
       "      <td>H</td>\n",
       "      <td>445</td>\n",
       "      <td>72462.16</td>\n",
       "      <td>162.84</td>\n",
       "      <td>402.00</td>\n",
       "      <td>6.00</td>\n",
       "    </tr>\n",
       "    <tr>\n",
       "      <th>8</th>\n",
       "      <td>I</td>\n",
       "      <td>156</td>\n",
       "      <td>14097.79</td>\n",
       "      <td>90.37</td>\n",
       "      <td>310.20</td>\n",
       "      <td>0.26</td>\n",
       "    </tr>\n",
       "    <tr>\n",
       "      <th>9</th>\n",
       "      <td>K</td>\n",
       "      <td>111</td>\n",
       "      <td>12504.85</td>\n",
       "      <td>112.66</td>\n",
       "      <td>283.23</td>\n",
       "      <td>47.33</td>\n",
       "    </tr>\n",
       "  </tbody>\n",
       "</table>\n",
       "</div>"
      ],
      "text/plain": [
       "  room_type  bookings  total_adr  avg_adr  max_adr  min_adr\n",
       "0         A     31521 3009074.14    95.46   337.00     1.00\n",
       "1         B      1361  135225.55    99.36   276.00     1.00\n",
       "2         C      1727  193512.43   112.05   508.00     4.00\n",
       "3         D     16724 1736164.20   103.81   375.50     1.00\n",
       "4         E      5399  620423.75   114.91   451.50     2.00\n",
       "5         F      2645  391550.75   148.03   368.10     2.00\n",
       "6         G      1657  277074.84   167.21   510.00     1.00\n",
       "7         H       445   72462.16   162.84   402.00     6.00\n",
       "8         I       156   14097.79    90.37   310.20     0.26\n",
       "9         K       111   12504.85   112.66   283.23    47.33"
      ]
     },
     "execution_count": 709,
     "metadata": {},
     "output_type": "execute_result"
    }
   ],
   "source": [
    "rooms =clean.groupby('assigned_room_type').agg({'adr':['count', 'sum', 'mean','max','min']}).reset_index()\n",
    "rooms.columns = ['room_type', 'bookings', 'total_adr', 'avg_adr', 'max_adr', 'min_adr']\n",
    "rooms #an overview of metrics by the room type"
   ]
  },
  {
   "cell_type": "markdown",
   "id": "76f0f232-0f4d-492f-b0c2-f19408a34659",
   "metadata": {},
   "source": [
    "It seems that while A has the most bookings and adr generated, G has the highest average adr. Let's visualize this."
   ]
  },
  {
   "cell_type": "code",
   "execution_count": 710,
   "id": "e7136417-8b42-4d25-96ca-c86689ba1bcc",
   "metadata": {},
   "outputs": [
    {
     "data": {
      "image/png": "[encoded data removed]",
      "text/plain": [
       "<Figure size 1800x576 with 1 Axes>"
      ]
     },
     "metadata": {
      "needs_background": "light"
     },
     "output_type": "display_data"
    }
   ],
   "source": [
    "t5r_bkns = rooms.sort_values('bookings',ascending = False).head(5)\n",
    "t5r_bkns\n",
    "\n",
    "plt.figure(figsize =(25, 8))\n",
    "plot = sbn.barplot(x = t5r_bkns['room_type'], y = t5r_bkns['bookings'], order=t5r_bkns.sort_values('bookings', ascending = False).room_type )\n",
    "for bar in plot.patches:\n",
    "    plot.annotate(format(bar.get_height(), '.2f'),\n",
    "                   (bar.get_x() + bar.get_width() / 2,\n",
    "                    bar.get_height()), ha='center', va='center',\n",
    "                   size=15, xytext=(0, 8),\n",
    "                   textcoords='offset points')\n",
    "    \n",
    "plt.title(\"Top 5 agent bookings by room\")\n",
    "\n",
    "plt.show()"
   ]
  },
  {
   "cell_type": "code",
   "execution_count": 711,
   "id": "72b96c93-08e4-4c7b-b9a7-9956ef6a6a79",
   "metadata": {},
   "outputs": [
    {
     "data": {
      "image/png": "[encoded data removed]",
      "text/plain": [
       "<Figure size 1800x576 with 1 Axes>"
      ]
     },
     "metadata": {
      "needs_background": "light"
     },
     "output_type": "display_data"
    }
   ],
   "source": [
    "t5r_adr = rooms.sort_values('total_adr', ascending = False).reset_index(drop = True)\n",
    "t5r_adr\n",
    "\n",
    "plt.figure(figsize =(25, 8))\n",
    "plot = sbn.barplot(x = t5r_adr['room_type'], y = t5r_adr['total_adr'], order=t5r_adr.sort_values('total_adr', ascending = False).room_type )\n",
    "for bar in plot.patches:\n",
    "    plot.annotate(format(bar.get_height(), '.2f'),\n",
    "                   (bar.get_x() + bar.get_width() / 2,\n",
    "                    bar.get_height()), ha='center', va='center',\n",
    "                   size=15, xytext=(0, 8),\n",
    "                   textcoords='offset points')\n",
    "    \n",
    "plt.title(\"Top 5 adr generating rooms\")\n",
    "\n",
    "plt.show()"
   ]
  },
  {
   "cell_type": "code",
   "execution_count": 721,
   "id": "39bd270a-0653-43d8-bd39-790ad3ab5ad6",
   "metadata": {},
   "outputs": [
    {
     "data": {
      "text/plain": [
       "<AxesSubplot:xlabel='assigned_room_type', ylabel='adr'>"
      ]
     },
     "execution_count": 721,
     "metadata": {},
     "output_type": "execute_result"
    },
    {
     "data": {
      "image/png": "[encoded data removed]",
      "text/plain": [
       "<Figure size 1800x576 with 1 Axes>"
      ]
     },
     "metadata": {
      "needs_background": "light"
     },
     "output_type": "display_data"
    }
   ],
   "source": [
    "plt.figure(figsize =(25,8))\n",
    "sbn.violinplot(x = clean['assigned_room_type'], y = clean['adr'])"
   ]
  },
  {
   "cell_type": "code",
   "execution_count": 713,
   "id": "419a96fe-26bb-4420-adea-59cb97e6e54d",
   "metadata": {},
   "outputs": [
    {
     "data": {
      "text/plain": [
       "Index(['hotel', 'is_canceled', 'lead_time', 'arrival_date_year',\n",
       "       'arrival_date_month', 'arrival_date_week_number',\n",
       "       'arrival_date_day_of_month', 'meal', 'country', 'market_segment',\n",
       "       'distribution_channel', 'is_repeated_guest', 'previous_cancellations',\n",
       "       'previous_bookings_not_canceled', 'reserved_room_type',\n",
       "       'assigned_room_type', 'booking_changes', 'deposit_type', 'agent',\n",
       "       'company', 'days_in_waiting_list', 'customer_type', 'adr',\n",
       "       'required_car_parking_spaces', 'total_of_special_requests',\n",
       "       'reservation_status', 'reservation_status_date', 'total_people',\n",
       "       'total_stay', 'type_of_customer'],\n",
       "      dtype='object')"
      ]
     },
     "execution_count": 713,
     "metadata": {},
     "output_type": "execute_result"
    }
   ],
   "source": [
    "clean.columns"
   ]
  },
  {
   "cell_type": "code",
   "execution_count": 714,
   "id": "4c848168-9a05-4dee-a095-18a1b639b5bf",
   "metadata": {},
   "outputs": [
    {
     "data": {
      "text/plain": [
       "<AxesSubplot:xlabel='total_stay', ylabel='count'>"
      ]
     },
     "execution_count": 714,
     "metadata": {},
     "output_type": "execute_result"
    },
    {
     "data": {
      "image/png": "[encoded data removed]",
      "text/plain": [
       "<Figure size 1800x576 with 1 Axes>"
      ]
     },
     "metadata": {
      "needs_background": "light"
     },
     "output_type": "display_data"
    }
   ],
   "source": [
    "stay = clean[clean['total_stay'] < 22]\n",
    "plt.figure(figsize=(25,8))\n",
    "sbn.countplot(x = stay['total_stay'], hue = stay['hotel'])"
   ]
  },
  {
   "cell_type": "markdown",
   "id": "9757cb94-0c55-4869-a212-d0dbe478038f",
   "metadata": {},
   "source": [
    "City hotel seems to house more people who prefer shortter stay. "
   ]
  },
  {
   "cell_type": "markdown",
   "id": "76145f78-9227-4e67-b345-c08fb5c912d4",
   "metadata": {},
   "source": [
    "Let's take a look at what our cancelled boooking tells us"
   ]
  },
  {
   "cell_type": "code",
   "execution_count": 716,
   "id": "c2bb00f3-82f7-4f33-981a-64510174553d",
   "metadata": {},
   "outputs": [
    {
     "data": {
      "text/plain": [
       "0.2752378768772211"
      ]
     },
     "execution_count": 716,
     "metadata": {},
     "output_type": "execute_result"
    }
   ],
   "source": [
    "cancelled.shape[0] / df_nu.shape[0]"
   ]
  },
  {
   "cell_type": "markdown",
   "id": "f1a2e763-2058-4ddb-97e7-7289381c8fe8",
   "metadata": {},
   "source": [
    "About 28% of booked reservations have been cancelled."
   ]
  },
  {
   "cell_type": "code",
   "execution_count": 717,
   "id": "c699c67a-0c96-4bf5-84fd-d0d39dad0fbf",
   "metadata": {},
   "outputs": [
    {
     "data": {
      "image/png": "[encoded data removed]",
      "text/plain": [
       "<Figure size 1800x576 with 1 Axes>"
      ]
     },
     "metadata": {
      "needs_background": "light"
     },
     "output_type": "display_data"
    }
   ],
   "source": [
    "cancelled = df_nu[df_nu['is_canceled'] != 0]\n",
    "c1 = pd.DataFrame((canceled.groupby('hotel').size()/ df_nu.shape[0])*100).reset_index().rename(columns = {0:'% canceled'})\n",
    "plt.figure(figsize =(25, 8))\n",
    "plot = sbn.barplot(x = c1['hotel'], y = c1['% canceled'] )\n",
    "for bar in plot.patches:\n",
    "    plot.annotate(format(bar.get_height(), '.2f'),\n",
    "                   (bar.get_x() + bar.get_width() / 2,\n",
    "                    bar.get_height()), ha='center', va='center',\n",
    "                   size=15, xytext=(0, 8),\n",
    "                   textcoords='offset points')\n",
    "    \n",
    "plt.title(\"percentage of canceled bookings\")\n",
    "\n",
    "plt.show()"
   ]
  },
  {
   "cell_type": "markdown",
   "id": "6ea5cc46-5e0d-480a-a0e4-a9eb3688dcce",
   "metadata": {},
   "source": [
    "City hotel having the highest number of cancellations is unsurprisng seeing as it has the highest number of bookings."
   ]
  },
  {
   "cell_type": "code",
   "execution_count": null,
   "id": "64020fba-5eb2-4c96-ae18-4479bc322ce3",
   "metadata": {},
   "outputs": [],
   "source": [
    "cancelled.columns"
   ]
  },
  {
   "cell_type": "code",
   "execution_count": 718,
   "id": "fc0f1be2-a39d-47cc-9d3e-f4b1dbb87ef9",
   "metadata": {},
   "outputs": [
    {
     "data": {
      "text/plain": [
       "<AxesSubplot:xlabel='type_of_customer', ylabel='hotel'>"
      ]
     },
     "execution_count": 718,
     "metadata": {},
     "output_type": "execute_result"
    },
    {
     "data": {
      "image/png": "[encoded data removed]",
      "text/plain": [
       "<Figure size 1800x576 with 1 Axes>"
      ]
     },
     "metadata": {
      "needs_background": "light"
     },
     "output_type": "display_data"
    }
   ],
   "source": [
    "cancelled = cancelled[cancelled['adr'] < 3000]\n",
    "plt.figure(figsize =(25, 8))\n",
    "# sbn.violinplot(x=cancelled['type_of_customer'], y = cancelled['adr'])\n",
    "custo_group = cancelled.groupby('type_of_customer').agg({'hotel': 'count'}).reset_index()\n",
    "sbn.barplot(x=custo_group['type_of_customer'], y = custo_group['hotel'])"
   ]
  }
 ],
 "metadata": {
  "kernelspec": {
   "display_name": "Python 3 (ipykernel)",
   "language": "python",
   "name": "python3"
  },
  "language_info": {
   "codemirror_mode": {
    "name": "ipython",
    "version": 3
   },
   "file_extension": ".py",
   "mimetype": "text/x-python",
   "name": "python",
   "nbconvert_exporter": "python",
   "pygments_lexer": "ipython3",
   "version": "3.10.1"
  }
 },
 "nbformat": 4,
 "nbformat_minor": 5
}
